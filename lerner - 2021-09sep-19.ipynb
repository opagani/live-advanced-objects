{
 "cells": [
  {
   "cell_type": "markdown",
   "metadata": {},
   "source": [
    "# Agenda\n",
    "\n",
    "1. Magic methods\n",
    "2. Context managers (how objects can behave in `with` blocks)\n",
    "3. Static and class methods\n",
    "4. Multiple inheritance and the MRO \n",
    "5. Python object model + hierarchy\n",
    "6. Properties (looks like data, acts like methods)\n",
    "7. Descriptors\n",
    "8. Dataclasses"
   ]
  },
  {
   "cell_type": "markdown",
   "metadata": {},
   "source": [
    "# Magic methods\n",
    "\n",
    "We can define methods on our classes, and then access them via our instances. Generally speaking, we only want a method to be invoked when we do it explicitly.\n",
    "\n",
    "But there are a whole slew of methods, which we call \"dunder methods,\" or \"magic methods,\" which we almost never invoke directly ourselves.  Rather, Python looks for these methods, and then invokes them under certain circumstances."
   ]
  },
  {
   "cell_type": "code",
   "execution_count": 1,
   "metadata": {},
   "outputs": [
    {
     "name": "stdout",
     "output_type": "stream",
     "text": [
      "Hello, name1!\n"
     ]
    }
   ],
   "source": [
    "class Person:\n",
    "    def __init__(self, name):\n",
    "        self.name = name\n",
    "        \n",
    "    def greet(self):\n",
    "        return f'Hello, {self.name}!'\n",
    "    \n",
    "p = Person('name1')    \n",
    "print(p.greet())"
   ]
  },
  {
   "cell_type": "code",
   "execution_count": 2,
   "metadata": {},
   "outputs": [
    {
     "data": {
      "text/plain": [
       "{'name': 'name1'}"
      ]
     },
     "execution_count": 2,
     "metadata": {},
     "output_type": "execute_result"
    }
   ],
   "source": [
    "vars(p)  # this returns the dict of attributes set on the instance"
   ]
  },
  {
   "cell_type": "code",
   "execution_count": 3,
   "metadata": {},
   "outputs": [
    {
     "data": {
      "text/plain": [
       "'name1'"
      ]
     },
     "execution_count": 3,
     "metadata": {},
     "output_type": "execute_result"
    }
   ],
   "source": [
    "p.name  # retrieve the attribute named \"name\" from the object that p refers to\n"
   ]
  },
  {
   "cell_type": "code",
   "execution_count": 4,
   "metadata": {},
   "outputs": [
    {
     "name": "stdout",
     "output_type": "stream",
     "text": [
      "<__main__.Person object at 0x110462a90>\n"
     ]
    }
   ],
   "source": [
    "# ICPO -- attribute lookup: instance, class, parent, object\n",
    "\n",
    "print(p)   # this calls p.__str__() "
   ]
  },
  {
   "cell_type": "code",
   "execution_count": 7,
   "metadata": {},
   "outputs": [
    {
     "name": "stdout",
     "output_type": "stream",
     "text": [
      "Hello, name1!\n",
      "Instance of Person, vars(self)={'name': 'name1'}\n"
     ]
    }
   ],
   "source": [
    "class Person:\n",
    "    def __init__(self, name):\n",
    "        self.name = name\n",
    "        \n",
    "    def greet(self):\n",
    "        return f'Hello, {self.name}!'\n",
    "    \n",
    "    \n",
    "    def __repr__(self):\n",
    "        return f'Instance of Person, {vars(self)=}'    # as of Python 3.8, = after variable in f-string\n",
    "    \n",
    "p = Person('name1')    \n",
    "print(p.greet())\n",
    "print(p)"
   ]
  },
  {
   "cell_type": "code",
   "execution_count": 8,
   "metadata": {},
   "outputs": [
    {
     "ename": "TypeError",
     "evalue": "object of type 'Person' has no len()",
     "output_type": "error",
     "traceback": [
      "\u001b[0;31m---------------------------------------------------------------------------\u001b[0m",
      "\u001b[0;31mTypeError\u001b[0m                                 Traceback (most recent call last)",
      "\u001b[0;32m<ipython-input-8-c0ab7e71ddd9>\u001b[0m in \u001b[0;36m<module>\u001b[0;34m\u001b[0m\n\u001b[1;32m      3\u001b[0m \u001b[0;31m# when we call len(something), the \"len\" function calls something.__len__()\u001b[0m\u001b[0;34m\u001b[0m\u001b[0;34m\u001b[0m\u001b[0m\n\u001b[1;32m      4\u001b[0m \u001b[0;34m\u001b[0m\u001b[0m\n\u001b[0;32m----> 5\u001b[0;31m \u001b[0mlen\u001b[0m\u001b[0;34m(\u001b[0m\u001b[0mp\u001b[0m\u001b[0;34m)\u001b[0m  \u001b[0;31m# what's the length of our person?\u001b[0m\u001b[0;34m\u001b[0m\u001b[0;34m\u001b[0m\u001b[0m\n\u001b[0m",
      "\u001b[0;31mTypeError\u001b[0m: object of type 'Person' has no len()"
     ]
    }
   ],
   "source": [
    "# example: len(something)\n",
    "\n",
    "# when we call len(something), the \"len\" function calls something.__len__() \n",
    "\n",
    "len(p)  # what's the length of our person?"
   ]
  },
  {
   "cell_type": "code",
   "execution_count": 10,
   "metadata": {},
   "outputs": [
    {
     "name": "stdout",
     "output_type": "stream",
     "text": [
      "Hello, name1!\n",
      "Instance of Person, vars(self)={'name': 'name1'}\n",
      "5\n"
     ]
    }
   ],
   "source": [
    "class Person:\n",
    "    def __init__(self, name):\n",
    "        self.name = name\n",
    "        \n",
    "    def greet(self):\n",
    "        return f'Hello, {self.name}!'\n",
    "    \n",
    "    def __repr__(self):\n",
    "        return f'Instance of Person, {vars(self)=}'    # as of Python 3.8, = after variable in f-string\n",
    "    \n",
    "    def __len__(self):\n",
    "        return len(self.name)  # how long is the name?\n",
    "    \n",
    "p = Person('name1')    \n",
    "print(p.greet())\n",
    "print(p)\n",
    "print(len(p))  # I call len(p)... len calls p.__len__() "
   ]
  },
  {
   "cell_type": "code",
   "execution_count": 12,
   "metadata": {},
   "outputs": [
    {
     "ename": "TypeError",
     "evalue": "'Person' object is not subscriptable",
     "output_type": "error",
     "traceback": [
      "\u001b[0;31m---------------------------------------------------------------------------\u001b[0m",
      "\u001b[0;31mTypeError\u001b[0m                                 Traceback (most recent call last)",
      "\u001b[0;32m<ipython-input-12-060a4b6788a1>\u001b[0m in \u001b[0;36m<module>\u001b[0;34m\u001b[0m\n\u001b[0;32m----> 1\u001b[0;31m \u001b[0mp\u001b[0m\u001b[0;34m[\u001b[0m\u001b[0;36m3\u001b[0m\u001b[0;34m]\u001b[0m   \u001b[0;31m# what happens when I do this?\u001b[0m\u001b[0;34m\u001b[0m\u001b[0;34m\u001b[0m\u001b[0m\n\u001b[0m",
      "\u001b[0;31mTypeError\u001b[0m: 'Person' object is not subscriptable"
     ]
    }
   ],
   "source": [
    "p[3]   # what happens when I do this?"
   ]
  },
  {
   "cell_type": "code",
   "execution_count": 13,
   "metadata": {},
   "outputs": [],
   "source": [
    "# when we say x[i], what's really being run behind the scenes is x.__getitem__(i)\n",
    "# [] are \"syntactic sugar,\" easier for us to write and read, but rewritten behind the scenes by the language"
   ]
  },
  {
   "cell_type": "code",
   "execution_count": 18,
   "metadata": {},
   "outputs": [
    {
     "name": "stdout",
     "output_type": "stream",
     "text": [
      "\tindex=3\n",
      "e\n"
     ]
    }
   ],
   "source": [
    "class Person:\n",
    "    def __init__(self, name):\n",
    "        self.name = name\n",
    "        \n",
    "    def greet(self):\n",
    "        return f'Hello, {self.name}!'\n",
    "    \n",
    "    def __repr__(self):\n",
    "        return f'Instance of Person, {vars(self)=}'    # as of Python 3.8, = after variable in f-string\n",
    "    \n",
    "    def __len__(self):\n",
    "        return len(self.name)  # how long is the name?\n",
    "    \n",
    "    def __getitem__(self, index):\n",
    "        print(f'\\t{index=}')\n",
    "        return self.name[index]\n",
    "    \n",
    "p = Person('name1')    \n",
    "print(p[3])    # this is like saying p.__getitem__(3), which will return p.name[3]"
   ]
  },
  {
   "cell_type": "code",
   "execution_count": 19,
   "metadata": {},
   "outputs": [
    {
     "name": "stdout",
     "output_type": "stream",
     "text": [
      "\tindex=-100\n"
     ]
    },
    {
     "ename": "IndexError",
     "evalue": "string index out of range",
     "output_type": "error",
     "traceback": [
      "\u001b[0;31m---------------------------------------------------------------------------\u001b[0m",
      "\u001b[0;31mIndexError\u001b[0m                                Traceback (most recent call last)",
      "\u001b[0;32m<ipython-input-19-a8cc09efd1d7>\u001b[0m in \u001b[0;36m<module>\u001b[0;34m\u001b[0m\n\u001b[0;32m----> 1\u001b[0;31m \u001b[0mprint\u001b[0m\u001b[0;34m(\u001b[0m\u001b[0mp\u001b[0m\u001b[0;34m[\u001b[0m\u001b[0;34m-\u001b[0m\u001b[0;36m100\u001b[0m\u001b[0;34m]\u001b[0m\u001b[0;34m)\u001b[0m\u001b[0;34m\u001b[0m\u001b[0;34m\u001b[0m\u001b[0m\n\u001b[0m",
      "\u001b[0;32m<ipython-input-18-e104fa35c18a>\u001b[0m in \u001b[0;36m__getitem__\u001b[0;34m(self, index)\u001b[0m\n\u001b[1;32m     14\u001b[0m     \u001b[0;32mdef\u001b[0m \u001b[0m__getitem__\u001b[0m\u001b[0;34m(\u001b[0m\u001b[0mself\u001b[0m\u001b[0;34m,\u001b[0m \u001b[0mindex\u001b[0m\u001b[0;34m)\u001b[0m\u001b[0;34m:\u001b[0m\u001b[0;34m\u001b[0m\u001b[0;34m\u001b[0m\u001b[0m\n\u001b[1;32m     15\u001b[0m         \u001b[0mprint\u001b[0m\u001b[0;34m(\u001b[0m\u001b[0;34mf'\\t{index=}'\u001b[0m\u001b[0;34m)\u001b[0m\u001b[0;34m\u001b[0m\u001b[0;34m\u001b[0m\u001b[0m\n\u001b[0;32m---> 16\u001b[0;31m         \u001b[0;32mreturn\u001b[0m \u001b[0mself\u001b[0m\u001b[0;34m.\u001b[0m\u001b[0mname\u001b[0m\u001b[0;34m[\u001b[0m\u001b[0mindex\u001b[0m\u001b[0;34m]\u001b[0m\u001b[0;34m\u001b[0m\u001b[0;34m\u001b[0m\u001b[0m\n\u001b[0m\u001b[1;32m     17\u001b[0m \u001b[0;34m\u001b[0m\u001b[0m\n\u001b[1;32m     18\u001b[0m \u001b[0mp\u001b[0m \u001b[0;34m=\u001b[0m \u001b[0mPerson\u001b[0m\u001b[0;34m(\u001b[0m\u001b[0;34m'name1'\u001b[0m\u001b[0;34m)\u001b[0m\u001b[0;34m\u001b[0m\u001b[0;34m\u001b[0m\u001b[0m\n",
      "\u001b[0;31mIndexError\u001b[0m: string index out of range"
     ]
    }
   ],
   "source": [
    "print(p[-100])"
   ]
  },
  {
   "cell_type": "code",
   "execution_count": 20,
   "metadata": {},
   "outputs": [
    {
     "name": "stdout",
     "output_type": "stream",
     "text": [
      "\tindex=slice(1, 4, None)\n",
      "ame\n"
     ]
    }
   ],
   "source": [
    "# what if I ask for a slice?\n",
    "print(p[1:4])   # slice from index 1 until (and not including) index 4"
   ]
  },
  {
   "cell_type": "code",
   "execution_count": 21,
   "metadata": {},
   "outputs": [
    {
     "data": {
      "text/plain": [
       "slice(None, 5, None)"
      ]
     },
     "execution_count": 21,
     "metadata": {},
     "output_type": "execute_result"
    }
   ],
   "source": [
    "slice(5)   # same as saying [:5]"
   ]
  },
  {
   "cell_type": "code",
   "execution_count": 22,
   "metadata": {},
   "outputs": [
    {
     "data": {
      "text/plain": [
       "slice(1, 4, None)"
      ]
     },
     "execution_count": 22,
     "metadata": {},
     "output_type": "execute_result"
    }
   ],
   "source": [
    "slice(1,4)"
   ]
  },
  {
   "cell_type": "code",
   "execution_count": 23,
   "metadata": {},
   "outputs": [
    {
     "data": {
      "text/plain": [
       "slice(1, 4, 2)"
      ]
     },
     "execution_count": 23,
     "metadata": {},
     "output_type": "execute_result"
    }
   ],
   "source": [
    "slice(1,4,2)  # same as [1:4:2]"
   ]
  },
  {
   "cell_type": "code",
   "execution_count": 24,
   "metadata": {},
   "outputs": [
    {
     "data": {
      "text/plain": [
       "'klmnopqrst'"
      ]
     },
     "execution_count": 24,
     "metadata": {},
     "output_type": "execute_result"
    }
   ],
   "source": [
    "s = 'abcdefghijklmnopqrstuvwxyz'\n",
    "\n",
    "s[10:20]   # from 10 until (not including) 20"
   ]
  },
  {
   "cell_type": "code",
   "execution_count": 25,
   "metadata": {},
   "outputs": [
    {
     "data": {
      "text/plain": [
       "'klmnopqrst'"
      ]
     },
     "execution_count": 25,
     "metadata": {},
     "output_type": "execute_result"
    }
   ],
   "source": [
    "# the above is rewritten to be:\n",
    "s[slice(10, 20)]     # [10:20] is turned into this"
   ]
  },
  {
   "cell_type": "code",
   "execution_count": 26,
   "metadata": {},
   "outputs": [
    {
     "data": {
      "text/plain": [
       "'knqt'"
      ]
     },
     "execution_count": 26,
     "metadata": {},
     "output_type": "execute_result"
    }
   ],
   "source": [
    "s[10:20:3]   # same as s[slice(10, 20, 3)]"
   ]
  },
  {
   "cell_type": "markdown",
   "metadata": {},
   "source": [
    "# What happens when we add objects together with `+`?\n",
    "\n",
    "```python\n",
    "3 + 5      # adding two integers, we get a new integer\n",
    "'a' + 'bc' # adding two strings, we get a new string\n",
    "```\n",
    "\n",
    "Whenever we add two objects in Python, we're actually invoking a method. The `+` operator is translated into a call to the `__add__` method.\n",
    "\n",
    "If I say `x + y` in Python, the language rewrites this to be `x.__add__(y)`.  In other words, we invoke the `__add__` method on whatever is on the *left* side. The second operand is then passed as an argument."
   ]
  },
  {
   "cell_type": "code",
   "execution_count": 27,
   "metadata": {},
   "outputs": [
    {
     "ename": "TypeError",
     "evalue": "unsupported operand type(s) for +: 'Person' and 'Person'",
     "output_type": "error",
     "traceback": [
      "\u001b[0;31m---------------------------------------------------------------------------\u001b[0m",
      "\u001b[0;31mTypeError\u001b[0m                                 Traceback (most recent call last)",
      "\u001b[0;32m<ipython-input-27-50d4a6d3a7d9>\u001b[0m in \u001b[0;36m<module>\u001b[0;34m\u001b[0m\n\u001b[1;32m      2\u001b[0m \u001b[0mp2\u001b[0m \u001b[0;34m=\u001b[0m \u001b[0mPerson\u001b[0m\u001b[0;34m(\u001b[0m\u001b[0;34m'name2'\u001b[0m\u001b[0;34m)\u001b[0m\u001b[0;34m\u001b[0m\u001b[0;34m\u001b[0m\u001b[0m\n\u001b[1;32m      3\u001b[0m \u001b[0;34m\u001b[0m\u001b[0m\n\u001b[0;32m----> 4\u001b[0;31m \u001b[0mp1\u001b[0m \u001b[0;34m+\u001b[0m \u001b[0mp2\u001b[0m   \u001b[0;31m# what will happen now?\u001b[0m\u001b[0;34m\u001b[0m\u001b[0;34m\u001b[0m\u001b[0m\n\u001b[0m",
      "\u001b[0;31mTypeError\u001b[0m: unsupported operand type(s) for +: 'Person' and 'Person'"
     ]
    }
   ],
   "source": [
    "p1 = Person('name1')\n",
    "p2 = Person('name2')\n",
    "\n",
    "p1 + p2   # what will happen now?"
   ]
  },
  {
   "cell_type": "code",
   "execution_count": 28,
   "metadata": {},
   "outputs": [
    {
     "ename": "TypeError",
     "evalue": "unsupported operand type(s) for +: 'int' and 'str'",
     "output_type": "error",
     "traceback": [
      "\u001b[0;31m---------------------------------------------------------------------------\u001b[0m",
      "\u001b[0;31mTypeError\u001b[0m                                 Traceback (most recent call last)",
      "\u001b[0;32m<ipython-input-28-bb57d4d128c0>\u001b[0m in \u001b[0;36m<module>\u001b[0;34m\u001b[0m\n\u001b[1;32m      2\u001b[0m \u001b[0my\u001b[0m \u001b[0;34m=\u001b[0m \u001b[0;34m'20'\u001b[0m\u001b[0;34m\u001b[0m\u001b[0;34m\u001b[0m\u001b[0m\n\u001b[1;32m      3\u001b[0m \u001b[0;34m\u001b[0m\u001b[0m\n\u001b[0;32m----> 4\u001b[0;31m \u001b[0mx\u001b[0m \u001b[0;34m+\u001b[0m \u001b[0my\u001b[0m\u001b[0;34m\u001b[0m\u001b[0;34m\u001b[0m\u001b[0m\n\u001b[0m",
      "\u001b[0;31mTypeError\u001b[0m: unsupported operand type(s) for +: 'int' and 'str'"
     ]
    }
   ],
   "source": [
    "x = 10\n",
    "y = '20'\n",
    "\n",
    "x + y   "
   ]
  },
  {
   "cell_type": "code",
   "execution_count": 29,
   "metadata": {},
   "outputs": [
    {
     "ename": "TypeError",
     "evalue": "can only concatenate str (not \"int\") to str",
     "output_type": "error",
     "traceback": [
      "\u001b[0;31m---------------------------------------------------------------------------\u001b[0m",
      "\u001b[0;31mTypeError\u001b[0m                                 Traceback (most recent call last)",
      "\u001b[0;32m<ipython-input-29-94c8e99c39e6>\u001b[0m in \u001b[0;36m<module>\u001b[0;34m\u001b[0m\n\u001b[1;32m      1\u001b[0m \u001b[0;31m# what happens if I add them, but in the opposite order?\u001b[0m\u001b[0;34m\u001b[0m\u001b[0;34m\u001b[0m\u001b[0m\n\u001b[1;32m      2\u001b[0m \u001b[0;34m\u001b[0m\u001b[0m\n\u001b[0;32m----> 3\u001b[0;31m \u001b[0my\u001b[0m \u001b[0;34m+\u001b[0m \u001b[0mx\u001b[0m\u001b[0;34m\u001b[0m\u001b[0;34m\u001b[0m\u001b[0m\n\u001b[0m",
      "\u001b[0;31mTypeError\u001b[0m: can only concatenate str (not \"int\") to str"
     ]
    }
   ],
   "source": [
    "# what happens if I add them, but in the opposite order?\n",
    "\n",
    "y + x"
   ]
  },
  {
   "cell_type": "code",
   "execution_count": 36,
   "metadata": {},
   "outputs": [
    {
     "data": {
      "text/plain": [
       "Person object, vars(self)={'name': 'name1name2'}"
      ]
     },
     "execution_count": 36,
     "metadata": {},
     "output_type": "execute_result"
    }
   ],
   "source": [
    "class Person:\n",
    "    def __init__(self, name):\n",
    "        self.name = name\n",
    "        \n",
    "    def greet(self):\n",
    "        return f'Hello, {self.name}!'\n",
    "    \n",
    "    def __repr__(self):\n",
    "        return f'Person object, {vars(self)=}'\n",
    "    \n",
    "    def __add__(self, other):          # other is the object on the right side of the +\n",
    "        if hasattr(other, 'name'):     # does the attribute 'name' exist on other?\n",
    "            return Person(self.name + other.name)  # create a new person with the combined name\n",
    "        else:\n",
    "            return Person(self.name + str(other))\n",
    "    \n",
    "p1 = Person('name1')\n",
    "p2 = Person('name2')\n",
    "\n",
    "p1 + p2  # this invokes p1.__add__(p2) --> Person.__add__(p1, p2)"
   ]
  },
  {
   "cell_type": "code",
   "execution_count": 37,
   "metadata": {},
   "outputs": [
    {
     "data": {
      "text/plain": [
       "Person object, vars(self)={'name': 'name1xxxxx'}"
      ]
     },
     "execution_count": 37,
     "metadata": {},
     "output_type": "execute_result"
    }
   ],
   "source": [
    "p1 + 'xxxxx'"
   ]
  },
  {
   "cell_type": "code",
   "execution_count": 38,
   "metadata": {},
   "outputs": [
    {
     "ename": "TypeError",
     "evalue": "can only concatenate str (not \"Person\") to str",
     "output_type": "error",
     "traceback": [
      "\u001b[0;31m---------------------------------------------------------------------------\u001b[0m",
      "\u001b[0;31mTypeError\u001b[0m                                 Traceback (most recent call last)",
      "\u001b[0;32m<ipython-input-38-7ada3b2cea6d>\u001b[0m in \u001b[0;36m<module>\u001b[0;34m\u001b[0m\n\u001b[0;32m----> 1\u001b[0;31m \u001b[0;34m'yyyyy'\u001b[0m \u001b[0;34m+\u001b[0m \u001b[0mp1\u001b[0m\u001b[0;34m\u001b[0m\u001b[0;34m\u001b[0m\u001b[0m\n\u001b[0m",
      "\u001b[0;31mTypeError\u001b[0m: can only concatenate str (not \"Person\") to str"
     ]
    }
   ],
   "source": [
    "'yyyyy' + p1      # 'yyyyy'.__add__(p1)"
   ]
  },
  {
   "cell_type": "code",
   "execution_count": 39,
   "metadata": {},
   "outputs": [
    {
     "data": {
      "text/plain": [
       "NotImplemented"
      ]
     },
     "execution_count": 39,
     "metadata": {},
     "output_type": "execute_result"
    }
   ],
   "source": [
    "# If we try to invoke a method like __add__ and the method doesn't know what to do\n",
    "# with an \"other\" argument of the current type, it will raise an exception, as \n",
    "# we've seen  *BUT FIRST* it will try to invoke the method in the opposite direction.\n",
    "\n",
    "# Python does this via a value that it returns from the method called\n",
    "# NotImplemented\n",
    "\n",
    "NotImplemented"
   ]
  },
  {
   "cell_type": "code",
   "execution_count": 40,
   "metadata": {},
   "outputs": [
    {
     "data": {
      "text/plain": [
       "NotImplementedType"
      ]
     },
     "execution_count": 40,
     "metadata": {},
     "output_type": "execute_result"
    }
   ],
   "source": [
    "type(NotImplemented)"
   ]
  },
  {
   "cell_type": "code",
   "execution_count": 41,
   "metadata": {},
   "outputs": [
    {
     "data": {
      "text/plain": [
       "Person object, vars(self)={'name': 'name1name2'}"
      ]
     },
     "execution_count": 41,
     "metadata": {},
     "output_type": "execute_result"
    }
   ],
   "source": [
    "class Person:\n",
    "    def __init__(self, name):\n",
    "        self.name = name\n",
    "        \n",
    "    def greet(self):\n",
    "        return f'Hello, {self.name}!'\n",
    "    \n",
    "    def __repr__(self):\n",
    "        return f'Person object, {vars(self)=}'\n",
    "    \n",
    "    def __add__(self, other):          # other is the object on the right side of the +\n",
    "        if hasattr(other, 'name'):     # does the attribute 'name' exist on other?\n",
    "            return Person(self.name + other.name)  # create a new person with the combined name\n",
    "        else:\n",
    "            return Person(self.name + str(other))\n",
    "        \n",
    "    def __radd__(self, other):   # this is invoked when Python tries +, swapping the order of the arguments\n",
    "        return self.__add__(other)\n",
    "    \n",
    "p1 = Person('name1')\n",
    "p2 = Person('name2')\n",
    "\n",
    "p1 + p2  # this invokes p1.__add__(p2) --> Person.__add__(p1, p2)"
   ]
  },
  {
   "cell_type": "code",
   "execution_count": 42,
   "metadata": {},
   "outputs": [
    {
     "data": {
      "text/plain": [
       "Person object, vars(self)={'name': 'name2name1'}"
      ]
     },
     "execution_count": 42,
     "metadata": {},
     "output_type": "execute_result"
    }
   ],
   "source": [
    "p2 + p1"
   ]
  },
  {
   "cell_type": "code",
   "execution_count": 43,
   "metadata": {},
   "outputs": [
    {
     "data": {
      "text/plain": [
       "Person object, vars(self)={'name': 'name1xxxx'}"
      ]
     },
     "execution_count": 43,
     "metadata": {},
     "output_type": "execute_result"
    }
   ],
   "source": [
    "p1 + 'xxxx'"
   ]
  },
  {
   "cell_type": "code",
   "execution_count": 44,
   "metadata": {},
   "outputs": [
    {
     "data": {
      "text/plain": [
       "Person object, vars(self)={'name': 'name1yyy'}"
      ]
     },
     "execution_count": 44,
     "metadata": {},
     "output_type": "execute_result"
    }
   ],
   "source": [
    "'yyy' + p1"
   ]
  },
  {
   "cell_type": "code",
   "execution_count": 45,
   "metadata": {},
   "outputs": [
    {
     "data": {
      "text/plain": [
       "Person object, vars(self)={'name': 'name1name2'}"
      ]
     },
     "execution_count": 45,
     "metadata": {},
     "output_type": "execute_result"
    }
   ],
   "source": [
    "class Person:\n",
    "    def __init__(self, name):\n",
    "        self.name = name\n",
    "        \n",
    "    def greet(self):\n",
    "        return f'Hello, {self.name}!'\n",
    "    \n",
    "    def __repr__(self):\n",
    "        return f'Person object, {vars(self)=}'\n",
    "    \n",
    "    def __add__(self, other):          # other is the object on the right side of the +\n",
    "        if hasattr(other, 'name'):     # does the attribute 'name' exist on other?\n",
    "            return Person(self.name + other.name)  # create a new person with the combined name\n",
    "        else:\n",
    "            return Person(self.name + str(other))\n",
    "        \n",
    "    def __radd__(self, other):   # this is invoked when Python tries +, swapping the order of the arguments\n",
    "        if hasattr(other, 'name'):     # does the attribute 'name' exist on other?\n",
    "            return Person(other.name + self.name)\n",
    "        else:\n",
    "            return Person(str(other) + self.name)\n",
    "\n",
    "    \n",
    "p1 = Person('name1')\n",
    "p2 = Person('name2')\n",
    "p3 = Person('a' + 'b' + 'c')\n",
    "\n",
    "\n",
    "p1 + p2  # this invokes p1.__add__(p2) --> Person.__add__(p1, p2)"
   ]
  },
  {
   "cell_type": "code",
   "execution_count": 46,
   "metadata": {},
   "outputs": [
    {
     "data": {
      "text/plain": [
       "Person object, vars(self)={'name': 'name1xxxxx'}"
      ]
     },
     "execution_count": 46,
     "metadata": {},
     "output_type": "execute_result"
    }
   ],
   "source": [
    "p1 + 'xxxxx'"
   ]
  },
  {
   "cell_type": "code",
   "execution_count": 47,
   "metadata": {},
   "outputs": [
    {
     "data": {
      "text/plain": [
       "Person object, vars(self)={'name': 'yyyyyname2'}"
      ]
     },
     "execution_count": 47,
     "metadata": {},
     "output_type": "execute_result"
    }
   ],
   "source": [
    "'yyyyy' + p2"
   ]
  },
  {
   "cell_type": "markdown",
   "metadata": {},
   "source": [
    "# Exercise: SortedList\n",
    "\n",
    "1. Define a new class, `SortedList`, that we'll assume will only contain integers.\n",
    "2. When you create a new instance of `SortedList`, you pass a list of integers.  These are then stored internally, in sorted order.  (It's totally OK to use `sorted` in this exercise.)\n",
    "3. Have `__repr__` return a string with the sorted items.\n",
    "4. Have `__len__` return the number of items in our list.\n",
    "5. If you invoke `+` on a `SortedList` and another `SortedList`, the result is a new `SortedList` instance with all of the original elements, in sorted order.\n",
    "6. If you invoke `+` on something else (should be an integer), then that should be added, in its appropriate place, to the `SortedList` instance.\n",
    "\n",
    "Example:\n",
    "\n",
    "    sl1 = SortedList([10, 5, 18])\n",
    "    sl2 = SortedList([9,7,12])\n",
    "    print(sl1)  # [5, 10, 18]\n",
    "    print(sl2)  # [7, 9, 12]\n",
    "\n",
    "    sl3 = sl1 + 7 \n",
    "    print(sl3)  # [5, 7, 10, 18]\n",
    "    \n",
    "    sl4 = 8 + sl1\n",
    "    print(sl4)  # [5, 8, 10, 18]\n",
    "    \n",
    "    print(sl1 + sl2)   # [5, 7, 9, 10, 12, 18]"
   ]
  },
  {
   "cell_type": "code",
   "execution_count": 68,
   "metadata": {},
   "outputs": [
    {
     "name": "stdout",
     "output_type": "stream",
     "text": [
      "[5, 10, 18]\n",
      "[7, 9, 12]\n"
     ]
    }
   ],
   "source": [
    "class SortedList:\n",
    "    def __init__(self, numbers):\n",
    "        self.numbers = sorted(numbers)\n",
    "        \n",
    "    def __repr__(self):\n",
    "        return str(self.numbers)\n",
    "    \n",
    "    def __add__(self, other):\n",
    "        if hasattr(other, 'numbers'):\n",
    "            return SortedList(self.numbers + other.numbers)\n",
    "        else:\n",
    "            return SortedList(self.numbers + [int(other)])\n",
    "        \n",
    "    def __radd__(self, other):\n",
    "        return self.__add__(other)\n",
    "        \n",
    "sl1 = SortedList([10, 5, 18])\n",
    "print(sl1)\n",
    "\n",
    "sl2 = SortedList([9, 7, 12])\n",
    "print(sl2)"
   ]
  },
  {
   "cell_type": "code",
   "execution_count": 69,
   "metadata": {},
   "outputs": [
    {
     "name": "stdout",
     "output_type": "stream",
     "text": [
      "[5, 7, 9, 10, 12, 18]\n"
     ]
    }
   ],
   "source": [
    "print(sl1 + sl2)"
   ]
  },
  {
   "cell_type": "code",
   "execution_count": 70,
   "metadata": {},
   "outputs": [
    {
     "name": "stdout",
     "output_type": "stream",
     "text": [
      "[5, 7, 10, 18]\n"
     ]
    }
   ],
   "source": [
    "sl3 = sl1 + 7\n",
    "print(sl3)"
   ]
  },
  {
   "cell_type": "code",
   "execution_count": 71,
   "metadata": {},
   "outputs": [
    {
     "name": "stdout",
     "output_type": "stream",
     "text": [
      "[5, 8, 10, 18]\n"
     ]
    }
   ],
   "source": [
    "sl4 = 8 + sl1\n",
    "print(sl4)"
   ]
  },
  {
   "cell_type": "code",
   "execution_count": null,
   "metadata": {},
   "outputs": [],
   "source": []
  },
  {
   "cell_type": "code",
   "execution_count": 72,
   "metadata": {},
   "outputs": [
    {
     "data": {
      "text/plain": [
       "[10, 20, 30, 40, 50, 60]"
      ]
     },
     "execution_count": 72,
     "metadata": {},
     "output_type": "execute_result"
    }
   ],
   "source": [
    "mylist = [10, 20, 30]\n",
    "mylist += [40, 50, 60]    \n",
    "\n",
    "# result is that mylist has changed!\n",
    "mylist"
   ]
  },
  {
   "cell_type": "code",
   "execution_count": 73,
   "metadata": {},
   "outputs": [
    {
     "data": {
      "text/plain": [
       "[5, 10, 18]"
      ]
     },
     "execution_count": 73,
     "metadata": {},
     "output_type": "execute_result"
    }
   ],
   "source": [
    "sl1 "
   ]
  },
  {
   "cell_type": "code",
   "execution_count": 74,
   "metadata": {},
   "outputs": [
    {
     "data": {
      "text/plain": [
       "[7, 9, 12]"
      ]
     },
     "execution_count": 74,
     "metadata": {},
     "output_type": "execute_result"
    }
   ],
   "source": [
    "sl2"
   ]
  },
  {
   "cell_type": "code",
   "execution_count": 75,
   "metadata": {},
   "outputs": [],
   "source": [
    "sl1 += sl2   # what will this do?  will it even work?  yes, it's just like saying sl1 = sl1 + sl2"
   ]
  },
  {
   "cell_type": "code",
   "execution_count": 76,
   "metadata": {},
   "outputs": [
    {
     "data": {
      "text/plain": [
       "[5, 7, 9, 10, 12, 18]"
      ]
     },
     "execution_count": 76,
     "metadata": {},
     "output_type": "execute_result"
    }
   ],
   "source": [
    "sl1"
   ]
  },
  {
   "cell_type": "code",
   "execution_count": null,
   "metadata": {},
   "outputs": [],
   "source": [
    "# when you use +=, Python turns that into +, and then turns it into assignment (=)\n",
    "# but it doesn't have to!"
   ]
  },
  {
   "cell_type": "code",
   "execution_count": 77,
   "metadata": {},
   "outputs": [
    {
     "name": "stdout",
     "output_type": "stream",
     "text": [
      "[5, 10, 18]\n",
      "[7, 9, 12]\n"
     ]
    }
   ],
   "source": [
    "class SortedList:\n",
    "    def __init__(self, numbers):\n",
    "        self.numbers = sorted(numbers)\n",
    "        \n",
    "    def __repr__(self):\n",
    "        return str(self.numbers)\n",
    "    \n",
    "    def __add__(self, other):\n",
    "        if hasattr(other, 'numbers'):\n",
    "            return SortedList(self.numbers + other.numbers)\n",
    "        else:\n",
    "            return SortedList(self.numbers + [int(other)])\n",
    "        \n",
    "    def __radd__(self, other):\n",
    "        return self.__add__(other)\n",
    "    \n",
    "    def __iadd__(self, other):  # this is for += \"inplace add\"\n",
    "        print(f'\\tNow in __iadd__!')\n",
    "        if hasattr(other, 'numbers'):\n",
    "            self.numbers = sorted(self.numbers + other.numbers)\n",
    "        else:\n",
    "            self.numbers = sorted(self.numbers + [int(other)])\n",
    "            \n",
    "        return self\n",
    "        \n",
    "sl1 = SortedList([10, 5, 18])\n",
    "print(sl1)\n",
    "\n",
    "sl2 = SortedList([9, 7, 12])\n",
    "print(sl2)"
   ]
  },
  {
   "cell_type": "code",
   "execution_count": 78,
   "metadata": {},
   "outputs": [
    {
     "data": {
      "text/plain": [
       "[5, 10, 18]"
      ]
     },
     "execution_count": 78,
     "metadata": {},
     "output_type": "execute_result"
    }
   ],
   "source": [
    "sl1"
   ]
  },
  {
   "cell_type": "code",
   "execution_count": 79,
   "metadata": {},
   "outputs": [
    {
     "data": {
      "text/plain": [
       "[7, 9, 12]"
      ]
     },
     "execution_count": 79,
     "metadata": {},
     "output_type": "execute_result"
    }
   ],
   "source": [
    "sl2"
   ]
  },
  {
   "cell_type": "code",
   "execution_count": 80,
   "metadata": {},
   "outputs": [
    {
     "name": "stdout",
     "output_type": "stream",
     "text": [
      "\tNow in __iadd__!\n"
     ]
    }
   ],
   "source": [
    "sl1 += sl2"
   ]
  },
  {
   "cell_type": "code",
   "execution_count": 81,
   "metadata": {},
   "outputs": [
    {
     "data": {
      "text/plain": [
       "[5, 7, 9, 10, 12, 18]"
      ]
     },
     "execution_count": 81,
     "metadata": {},
     "output_type": "execute_result"
    }
   ],
   "source": [
    "sl1"
   ]
  },
  {
   "cell_type": "code",
   "execution_count": 82,
   "metadata": {},
   "outputs": [
    {
     "data": {
      "text/plain": [
       "5"
      ]
     },
     "execution_count": 82,
     "metadata": {},
     "output_type": "execute_result"
    }
   ],
   "source": [
    "2 + 3"
   ]
  },
  {
   "cell_type": "code",
   "execution_count": 83,
   "metadata": {},
   "outputs": [
    {
     "ename": "SyntaxError",
     "evalue": "'literal' is an illegal expression for augmented assignment (<ipython-input-83-00e9f52d1826>, line 1)",
     "output_type": "error",
     "traceback": [
      "\u001b[0;36m  File \u001b[0;32m\"<ipython-input-83-00e9f52d1826>\"\u001b[0;36m, line \u001b[0;32m1\u001b[0m\n\u001b[0;31m    2 += 3\u001b[0m\n\u001b[0m    ^\u001b[0m\n\u001b[0;31mSyntaxError\u001b[0m\u001b[0;31m:\u001b[0m 'literal' is an illegal expression for augmented assignment\n"
     ]
    }
   ],
   "source": [
    "2 += 3"
   ]
  },
  {
   "cell_type": "markdown",
   "metadata": {},
   "source": [
    "# Next up\n",
    "\n",
    "- Equality and comparisons\n",
    "- Slots\n",
    "- Context managers\n",
    "- Multiple inheritance"
   ]
  },
  {
   "cell_type": "code",
   "execution_count": 84,
   "metadata": {},
   "outputs": [],
   "source": [
    "# Return at :15"
   ]
  },
  {
   "cell_type": "code",
   "execution_count": 85,
   "metadata": {},
   "outputs": [
    {
     "data": {
      "text/plain": [
       "2"
      ]
     },
     "execution_count": 85,
     "metadata": {},
     "output_type": "execute_result"
    }
   ],
   "source": [
    "t = ([10, 20, 30], \n",
    "    [100, 200, 300])\n",
    "\n",
    "len(t)"
   ]
  },
  {
   "cell_type": "code",
   "execution_count": 86,
   "metadata": {},
   "outputs": [
    {
     "data": {
      "text/plain": [
       "([10, 20, 30, 40], [100, 200, 300])"
      ]
     },
     "execution_count": 86,
     "metadata": {},
     "output_type": "execute_result"
    }
   ],
   "source": [
    "t[0].append(40)\n",
    "t"
   ]
  },
  {
   "cell_type": "code",
   "execution_count": 87,
   "metadata": {
    "scrolled": true
   },
   "outputs": [
    {
     "ename": "TypeError",
     "evalue": "'tuple' object does not support item assignment",
     "output_type": "error",
     "traceback": [
      "\u001b[0;31m---------------------------------------------------------------------------\u001b[0m",
      "\u001b[0;31mTypeError\u001b[0m                                 Traceback (most recent call last)",
      "\u001b[0;32m<ipython-input-87-2b735d214ecc>\u001b[0m in \u001b[0;36m<module>\u001b[0;34m\u001b[0m\n\u001b[0;32m----> 1\u001b[0;31m \u001b[0mt\u001b[0m\u001b[0;34m[\u001b[0m\u001b[0;36m0\u001b[0m\u001b[0;34m]\u001b[0m \u001b[0;34m+=\u001b[0m \u001b[0;34m[\u001b[0m\u001b[0;36m50\u001b[0m\u001b[0;34m,\u001b[0m \u001b[0;36m60\u001b[0m\u001b[0;34m,\u001b[0m \u001b[0;36m70\u001b[0m\u001b[0;34m]\u001b[0m\u001b[0;34m\u001b[0m\u001b[0;34m\u001b[0m\u001b[0m\n\u001b[0m",
      "\u001b[0;31mTypeError\u001b[0m: 'tuple' object does not support item assignment"
     ]
    }
   ],
   "source": [
    "t[0] += [50, 60, 70]"
   ]
  },
  {
   "cell_type": "code",
   "execution_count": 88,
   "metadata": {},
   "outputs": [
    {
     "data": {
      "text/plain": [
       "([10, 20, 30, 40, 50, 60, 70], [100, 200, 300])"
      ]
     },
     "execution_count": 88,
     "metadata": {},
     "output_type": "execute_result"
    }
   ],
   "source": [
    "t"
   ]
  },
  {
   "cell_type": "code",
   "execution_count": 102,
   "metadata": {},
   "outputs": [],
   "source": [
    "class Person:\n",
    "    def __init__(self, name):\n",
    "        self.name = name\n",
    "        \n",
    "    def greet(self):\n",
    "        return f'Hello, {self.name}!'\n",
    "    \n",
    "    def __repr__(self):\n",
    "        return f'Person object, {vars(self)=}'\n",
    "    \n",
    "    def __eq__(self, other):\n",
    "        if hasattr(other, 'name'):\n",
    "            return self.name == other.name\n",
    "        \n",
    "        return False\n",
    "    \n",
    "    def __hash__(self):\n",
    "        return hash(self.name)\n",
    "\n",
    "p1 = Person('Adam')\n",
    "p2 = Person('Adam')"
   ]
  },
  {
   "cell_type": "code",
   "execution_count": 103,
   "metadata": {},
   "outputs": [
    {
     "data": {
      "text/plain": [
       "True"
      ]
     },
     "execution_count": 103,
     "metadata": {},
     "output_type": "execute_result"
    }
   ],
   "source": [
    "p1 == p2"
   ]
  },
  {
   "cell_type": "code",
   "execution_count": 104,
   "metadata": {},
   "outputs": [
    {
     "data": {
      "text/plain": [
       "{'a': 1}"
      ]
     },
     "execution_count": 104,
     "metadata": {},
     "output_type": "execute_result"
    }
   ],
   "source": [
    "d = {'a':1}   # 'a' is the key, and 1 is the value\n",
    "d"
   ]
  },
  {
   "cell_type": "code",
   "execution_count": 105,
   "metadata": {},
   "outputs": [],
   "source": [
    "# keys have to be hashable -- not exactly immutable, and there are mutable, hashable objects\n",
    "# for example: any instance of our classes!\n",
    "\n",
    "# however, if we define __eq__, then we must also define __hash__ in order for our objects to be hashable\n",
    "\n",
    "d[p1] = 10"
   ]
  },
  {
   "cell_type": "code",
   "execution_count": 106,
   "metadata": {},
   "outputs": [
    {
     "data": {
      "text/plain": [
       "10"
      ]
     },
     "execution_count": 106,
     "metadata": {},
     "output_type": "execute_result"
    }
   ],
   "source": [
    "d[p1]"
   ]
  },
  {
   "cell_type": "code",
   "execution_count": 107,
   "metadata": {},
   "outputs": [
    {
     "data": {
      "text/plain": [
       "10"
      ]
     },
     "execution_count": 107,
     "metadata": {},
     "output_type": "execute_result"
    }
   ],
   "source": [
    "d[p2]"
   ]
  },
  {
   "cell_type": "markdown",
   "metadata": {},
   "source": [
    "# How can our objects be hashable?\n",
    "\n",
    "- By default, our objects are hashable. You don't need to do anything.\n",
    "- If you define `__eq__`, then the object is no longer hashable, unless you also define `__hash__`.\n",
    "- If you do *not* define `__eq__`, then you can still define `__hash__`, to make the object hashable in a custom way."
   ]
  },
  {
   "cell_type": "code",
   "execution_count": 111,
   "metadata": {},
   "outputs": [],
   "source": [
    "class Foo:\n",
    "    def __init__(self, x):\n",
    "        self.x = x\n",
    "        \n",
    "    def __hash__(self):\n",
    "        return 10\n",
    "        \n",
    "f = Foo(10)        \n",
    "d[f] = 1"
   ]
  },
  {
   "cell_type": "code",
   "execution_count": 114,
   "metadata": {},
   "outputs": [
    {
     "data": {
      "text/plain": [
       "1"
      ]
     },
     "execution_count": 114,
     "metadata": {},
     "output_type": "execute_result"
    }
   ],
   "source": [
    "d[f]"
   ]
  },
  {
   "cell_type": "code",
   "execution_count": 113,
   "metadata": {},
   "outputs": [
    {
     "ename": "KeyError",
     "evalue": "<__main__.Foo object at 0x110506670>",
     "output_type": "error",
     "traceback": [
      "\u001b[0;31m---------------------------------------------------------------------------\u001b[0m",
      "\u001b[0;31mKeyError\u001b[0m                                  Traceback (most recent call last)",
      "\u001b[0;32m<ipython-input-113-a64b68286a49>\u001b[0m in \u001b[0;36m<module>\u001b[0;34m\u001b[0m\n\u001b[1;32m      1\u001b[0m \u001b[0mf2\u001b[0m \u001b[0;34m=\u001b[0m \u001b[0mFoo\u001b[0m\u001b[0;34m(\u001b[0m\u001b[0;36m10\u001b[0m\u001b[0;34m)\u001b[0m\u001b[0;34m\u001b[0m\u001b[0;34m\u001b[0m\u001b[0m\n\u001b[0;32m----> 2\u001b[0;31m \u001b[0md\u001b[0m\u001b[0;34m[\u001b[0m\u001b[0mf2\u001b[0m\u001b[0;34m]\u001b[0m\u001b[0;34m\u001b[0m\u001b[0;34m\u001b[0m\u001b[0m\n\u001b[0m",
      "\u001b[0;31mKeyError\u001b[0m: <__main__.Foo object at 0x110506670>"
     ]
    }
   ],
   "source": [
    "f2 = Foo(20)\n",
    "d[f2]"
   ]
  },
  {
   "cell_type": "markdown",
   "metadata": {},
   "source": [
    "# Context managers\n",
    "\n",
    "You've probably seen (and used) many times, the following sort of code:\n",
    "\n",
    "```python\n",
    "with open('myfile.txt') as f:\n",
    "    for one_line in f:\n",
    "        print(len(one_line), end=' ')\n",
    "    # here, the file is automatically flushed + closed\n",
    "```\n",
    "\n",
    "Here's what's really going on behind the scenes:\n",
    "\n",
    "```python\n",
    "with open('myfile.txt') as f:\n",
    "\n",
    "    # Here, Python automatically calls f.__enter__()\n",
    "\n",
    "    for one_line in f:\n",
    "        print(len(one_line), end=' ')\n",
    "\n",
    "    # here, Python automatically calls f.__exit__()\n",
    "```\n",
    "\n",
    "Any object that implements `__enter__` and `__exit__` is called a \"context manager.\" Files are, far and away, the most common uses for context managers. But there are others out there -- locks, database transactions, etc."
   ]
  },
  {
   "cell_type": "code",
   "execution_count": 124,
   "metadata": {},
   "outputs": [
    {
     "name": "stdout",
     "output_type": "stream",
     "text": [
      "Now in __enter__, vars(self)={'x': 'abcde'}!\n",
      "Hello!\n",
      "abcdeabcde\n",
      "Goodbye!\n",
      "Now in __exit__, vars(self)={'x': 'abcde'}!\n"
     ]
    }
   ],
   "source": [
    "class MyContext:\n",
    "    def __init__(self, x):\n",
    "        self.x = x\n",
    "        \n",
    "    def x2(self):\n",
    "        return self.x * 2\n",
    "        \n",
    "    def __enter__(self):\n",
    "        print(f'Now in __enter__, {vars(self)=}!')\n",
    "        return self   # this returned value is assigned to c, in \"as c\" in the with block\n",
    "    \n",
    "    def __exit__(self, *args):\n",
    "        print(f'Now in __exit__, {vars(self)=}!')\n",
    "        if any(args):\n",
    "            print(f'You got an exception: {args}')\n",
    "        return True\n",
    "    \n",
    "with MyContext('abcde') as c:\n",
    "    print('Hello!')\n",
    "    print(c.x2())\n",
    "    print('Goodbye!')"
   ]
  },
  {
   "cell_type": "markdown",
   "metadata": {},
   "source": [
    "# Exercise: TempStdout\n",
    "\n",
    "1. Normally, when we `print`, output goes to the file object known as `sys.stdout`.\n",
    "2. (Yes, it's possible in modern Python to pass `file` as an argument to `print`, and have it print elsewhere.)\n",
    "3. Create a context manager, `TempStdout`, which takes an argument, a writable file, which will be assigned to `sys.stdout` for the duration of the `with` block. \n",
    "4. When the `with` block exits, we restore `stdout` to what it was before (presumably, the screen).\n",
    "\n",
    "Example:\n",
    "\n",
    "```python\n",
    "print('Before')  # screen\n",
    "\n",
    "with TempStdout(open('mystdout.txt', 'w')) as s:\n",
    "    print('During')   # printed to mystdout.txt\n",
    "    \n",
    "print('After')  # screen\n",
    "```"
   ]
  },
  {
   "cell_type": "code",
   "execution_count": 130,
   "metadata": {},
   "outputs": [
    {
     "name": "stdout",
     "output_type": "stream",
     "text": [
      "Before\n",
      "Now in __enter__\n",
      "Now in __exit__\n",
      "After\n"
     ]
    }
   ],
   "source": [
    "import sys\n",
    "\n",
    "class TempStdout:\n",
    "    def __init__(self, f):\n",
    "        self.f = f\n",
    "        self.oldstdout = None\n",
    "        \n",
    "    def __enter__(self):\n",
    "        print(f'Now in __enter__')\n",
    "        sys.oldstdout = sys.stdout   # save the existing sys.stdout somewhere!\n",
    "        sys.stdout = self.f\n",
    "        return self\n",
    "        \n",
    "    def __exit__(self, *args):\n",
    "        sys.stdout = sys.oldstdout\n",
    "        self.f.close()  # also flushes it\n",
    "        self.oldstdout = None\n",
    "        print(f'Now in __exit__')\n",
    "        return True\n",
    "\n",
    "print('Before')  # screen\n",
    "\n",
    "with TempStdout(open('mystdout.txt', 'w')) as s:\n",
    "    print('During')   # printed to mystdout.txt\n",
    "    \n",
    "print('After')  # screen"
   ]
  },
  {
   "cell_type": "code",
   "execution_count": 129,
   "metadata": {},
   "outputs": [
    {
     "name": "stdout",
     "output_type": "stream",
     "text": [
      "During\r\n"
     ]
    }
   ],
   "source": [
    "!cat mystdout.txt"
   ]
  },
  {
   "cell_type": "code",
   "execution_count": 131,
   "metadata": {},
   "outputs": [
    {
     "name": "stdout",
     "output_type": "stream",
     "text": [
      "{'x': 10}\n"
     ]
    }
   ],
   "source": [
    "class Foo:\n",
    "    def __init__(self, x):\n",
    "        self.x = x\n",
    "        \n",
    "f = Foo(10)        \n",
    "print(vars(f))"
   ]
  },
  {
   "cell_type": "code",
   "execution_count": 132,
   "metadata": {},
   "outputs": [
    {
     "name": "stdout",
     "output_type": "stream",
     "text": [
      "{'x': 20}\n"
     ]
    }
   ],
   "source": [
    "f.x = 20\n",
    "print(vars(f))"
   ]
  },
  {
   "cell_type": "code",
   "execution_count": 133,
   "metadata": {},
   "outputs": [
    {
     "name": "stdout",
     "output_type": "stream",
     "text": [
      "{'x': 20, 'y': 'hahaahahaha I added a new attribute'}\n"
     ]
    }
   ],
   "source": [
    "# what if I now add a new attribute?\n",
    "f.y = 'hahaahahaha I added a new attribute'\n",
    "print(vars(f))"
   ]
  },
  {
   "cell_type": "code",
   "execution_count": 135,
   "metadata": {},
   "outputs": [],
   "source": [
    "class Foo:\n",
    "    # class attribute: __slots__\n",
    "    __slots__ = ['x']  \n",
    "\n",
    "    def __init__(self, x):\n",
    "        self.x = x\n",
    "        \n",
    "f = Foo(10)        "
   ]
  },
  {
   "cell_type": "code",
   "execution_count": 136,
   "metadata": {},
   "outputs": [
    {
     "data": {
      "text/plain": [
       "10"
      ]
     },
     "execution_count": 136,
     "metadata": {},
     "output_type": "execute_result"
    }
   ],
   "source": [
    "f.x"
   ]
  },
  {
   "cell_type": "code",
   "execution_count": 137,
   "metadata": {},
   "outputs": [
    {
     "ename": "TypeError",
     "evalue": "vars() argument must have __dict__ attribute",
     "output_type": "error",
     "traceback": [
      "\u001b[0;31m---------------------------------------------------------------------------\u001b[0m",
      "\u001b[0;31mTypeError\u001b[0m                                 Traceback (most recent call last)",
      "\u001b[0;32m<ipython-input-137-41744d2761f6>\u001b[0m in \u001b[0;36m<module>\u001b[0;34m\u001b[0m\n\u001b[0;32m----> 1\u001b[0;31m \u001b[0mvars\u001b[0m\u001b[0;34m(\u001b[0m\u001b[0mf\u001b[0m\u001b[0;34m)\u001b[0m\u001b[0;34m\u001b[0m\u001b[0;34m\u001b[0m\u001b[0m\n\u001b[0m",
      "\u001b[0;31mTypeError\u001b[0m: vars() argument must have __dict__ attribute"
     ]
    }
   ],
   "source": [
    "vars(f)"
   ]
  },
  {
   "cell_type": "code",
   "execution_count": 138,
   "metadata": {},
   "outputs": [
    {
     "ename": "AttributeError",
     "evalue": "'Foo' object has no attribute 'y'",
     "output_type": "error",
     "traceback": [
      "\u001b[0;31m---------------------------------------------------------------------------\u001b[0m",
      "\u001b[0;31mAttributeError\u001b[0m                            Traceback (most recent call last)",
      "\u001b[0;32m<ipython-input-138-faf207314894>\u001b[0m in \u001b[0;36m<module>\u001b[0;34m\u001b[0m\n\u001b[0;32m----> 1\u001b[0;31m \u001b[0mf\u001b[0m\u001b[0;34m.\u001b[0m\u001b[0my\u001b[0m \u001b[0;34m=\u001b[0m \u001b[0;36m20\u001b[0m\u001b[0;34m\u001b[0m\u001b[0;34m\u001b[0m\u001b[0m\n\u001b[0m",
      "\u001b[0;31mAttributeError\u001b[0m: 'Foo' object has no attribute 'y'"
     ]
    }
   ],
   "source": [
    "f.y = 20"
   ]
  },
  {
   "cell_type": "code",
   "execution_count": 140,
   "metadata": {},
   "outputs": [
    {
     "data": {
      "text/plain": [
       "20"
      ]
     },
     "execution_count": 140,
     "metadata": {},
     "output_type": "execute_result"
    }
   ],
   "source": [
    "class Foo:\n",
    "    def __init__(self, x):\n",
    "        self.x = x\n",
    "        \n",
    "    def x2(self):\n",
    "        return self.x * 2\n",
    "    \n",
    "    def hello(self):\n",
    "        return 'Hello from Foo!'\n",
    "    \n",
    "f = Foo(10)    \n",
    "f.x2()"
   ]
  },
  {
   "cell_type": "code",
   "execution_count": 141,
   "metadata": {},
   "outputs": [
    {
     "data": {
      "text/plain": [
       "'Hello from Foo!'"
      ]
     },
     "execution_count": 141,
     "metadata": {},
     "output_type": "execute_result"
    }
   ],
   "source": [
    "f.hello()"
   ]
  },
  {
   "cell_type": "code",
   "execution_count": 142,
   "metadata": {},
   "outputs": [
    {
     "data": {
      "text/plain": [
       "20"
      ]
     },
     "execution_count": 142,
     "metadata": {},
     "output_type": "execute_result"
    }
   ],
   "source": [
    "# what if I want to call my methods on my class, Foo?  Can I do that?\n",
    "\n",
    "Foo.x2(f)  # I have to provide an instance of Foo as the argument"
   ]
  },
  {
   "cell_type": "code",
   "execution_count": 143,
   "metadata": {},
   "outputs": [
    {
     "data": {
      "text/plain": [
       "'Hello from Foo!'"
      ]
     },
     "execution_count": 143,
     "metadata": {},
     "output_type": "execute_result"
    }
   ],
   "source": [
    "Foo.hello(f)"
   ]
  },
  {
   "cell_type": "code",
   "execution_count": 144,
   "metadata": {},
   "outputs": [
    {
     "ename": "TypeError",
     "evalue": "hello() missing 1 required positional argument: 'self'",
     "output_type": "error",
     "traceback": [
      "\u001b[0;31m---------------------------------------------------------------------------\u001b[0m",
      "\u001b[0;31mTypeError\u001b[0m                                 Traceback (most recent call last)",
      "\u001b[0;32m<ipython-input-144-cdd4447624a7>\u001b[0m in \u001b[0;36m<module>\u001b[0;34m\u001b[0m\n\u001b[0;32m----> 1\u001b[0;31m \u001b[0mFoo\u001b[0m\u001b[0;34m.\u001b[0m\u001b[0mhello\u001b[0m\u001b[0;34m(\u001b[0m\u001b[0;34m)\u001b[0m\u001b[0;34m\u001b[0m\u001b[0;34m\u001b[0m\u001b[0m\n\u001b[0m",
      "\u001b[0;31mTypeError\u001b[0m: hello() missing 1 required positional argument: 'self'"
     ]
    }
   ],
   "source": [
    "Foo.hello()"
   ]
  },
  {
   "cell_type": "code",
   "execution_count": 145,
   "metadata": {},
   "outputs": [
    {
     "data": {
      "text/plain": [
       "20"
      ]
     },
     "execution_count": 145,
     "metadata": {},
     "output_type": "execute_result"
    }
   ],
   "source": [
    "class Foo:\n",
    "    def __init__(self, x):\n",
    "        self.x = x\n",
    "        \n",
    "    def x2(self):\n",
    "        return self.x * 2\n",
    "    \n",
    "    def hello():\n",
    "        return 'Hello from Foo!'\n",
    "    \n",
    "f = Foo(10)    \n",
    "f.x2()"
   ]
  },
  {
   "cell_type": "code",
   "execution_count": 146,
   "metadata": {},
   "outputs": [
    {
     "data": {
      "text/plain": [
       "'Hello from Foo!'"
      ]
     },
     "execution_count": 146,
     "metadata": {},
     "output_type": "execute_result"
    }
   ],
   "source": [
    "Foo.hello()"
   ]
  },
  {
   "cell_type": "code",
   "execution_count": 148,
   "metadata": {},
   "outputs": [
    {
     "ename": "TypeError",
     "evalue": "hello() takes 0 positional arguments but 1 was given",
     "output_type": "error",
     "traceback": [
      "\u001b[0;31m---------------------------------------------------------------------------\u001b[0m",
      "\u001b[0;31mTypeError\u001b[0m                                 Traceback (most recent call last)",
      "\u001b[0;32m<ipython-input-148-8220e25c69c5>\u001b[0m in \u001b[0;36m<module>\u001b[0;34m\u001b[0m\n\u001b[0;32m----> 1\u001b[0;31m \u001b[0mf\u001b[0m\u001b[0;34m.\u001b[0m\u001b[0mhello\u001b[0m\u001b[0;34m(\u001b[0m\u001b[0;34m)\u001b[0m   \u001b[0;31m# rewrote this to be Foo.hello(f)\u001b[0m\u001b[0;34m\u001b[0m\u001b[0;34m\u001b[0m\u001b[0m\n\u001b[0m",
      "\u001b[0;31mTypeError\u001b[0m: hello() takes 0 positional arguments but 1 was given"
     ]
    }
   ],
   "source": [
    "f.hello()   # rewrote this to be Foo.hello(f)"
   ]
  },
  {
   "cell_type": "markdown",
   "metadata": {},
   "source": [
    "# Static methods \n",
    "\n",
    "Static methods are methods that we can call via either the class or the instance, but which don't expect/require/get `self` as the first parameter. They can take any other parameters we want, but they don't have access to `self`, and thus don't have access to the state of our instance."
   ]
  },
  {
   "cell_type": "code",
   "execution_count": 149,
   "metadata": {},
   "outputs": [
    {
     "data": {
      "text/plain": [
       "20"
      ]
     },
     "execution_count": 149,
     "metadata": {},
     "output_type": "execute_result"
    }
   ],
   "source": [
    "class Foo:\n",
    "    def __init__(self, x):\n",
    "        self.x = x\n",
    "        \n",
    "    def x2(self):\n",
    "        return self.x * 2\n",
    "    \n",
    "    @staticmethod     # decorator before the method definition\n",
    "    def hello():\n",
    "        return 'Hello from Foo!'\n",
    "    \n",
    "f = Foo(10)    \n",
    "f.x2()"
   ]
  },
  {
   "cell_type": "code",
   "execution_count": 150,
   "metadata": {},
   "outputs": [
    {
     "data": {
      "text/plain": [
       "'Hello from Foo!'"
      ]
     },
     "execution_count": 150,
     "metadata": {},
     "output_type": "execute_result"
    }
   ],
   "source": [
    "Foo.hello()"
   ]
  },
  {
   "cell_type": "code",
   "execution_count": 151,
   "metadata": {},
   "outputs": [
    {
     "data": {
      "text/plain": [
       "'Hello from Foo!'"
      ]
     },
     "execution_count": 151,
     "metadata": {},
     "output_type": "execute_result"
    }
   ],
   "source": [
    "f.hello()"
   ]
  },
  {
   "cell_type": "markdown",
   "metadata": {},
   "source": [
    "# What are class methods, then?\n",
    "\n",
    "In Python, a class method is a method that can be called from either the class or the instance. Like an instance method, it gets an argument passed to it automatically, in the first position. But unlike an instance method, that first argument is a *class*, the class on which we're running our method.\n",
    "\n",
    "So `self` is the first parameter in every instance method, and is the instance on which we're running the method.\n",
    "\n",
    "And `cls` (the traditional name given to the first parameter in a class method) is the first parameter in every class method, and is the *class* on which we're running things (aka `type(self)`)."
   ]
  },
  {
   "cell_type": "code",
   "execution_count": 152,
   "metadata": {},
   "outputs": [
    {
     "data": {
      "text/plain": [
       "20"
      ]
     },
     "execution_count": 152,
     "metadata": {},
     "output_type": "execute_result"
    }
   ],
   "source": [
    "class Foo:\n",
    "    def __init__(self, x):\n",
    "        self.x = x\n",
    "        \n",
    "    def x2(self):\n",
    "        return self.x * 2\n",
    "    \n",
    "    @staticmethod     # decorator before the method definition\n",
    "    def hello():\n",
    "        return 'Hello from Foo!'\n",
    "    \n",
    "    @classmethod      # decorator before the method definition\n",
    "    def goodbye(cls):\n",
    "        return f'Goodbye from Foo, class = {cls}'\n",
    "    \n",
    "f = Foo(10)    \n",
    "f.x2()"
   ]
  },
  {
   "cell_type": "code",
   "execution_count": 153,
   "metadata": {},
   "outputs": [
    {
     "data": {
      "text/plain": [
       "\"Goodbye from Foo, class = <class '__main__.Foo'>\""
      ]
     },
     "execution_count": 153,
     "metadata": {},
     "output_type": "execute_result"
    }
   ],
   "source": [
    "f.goodbye()"
   ]
  },
  {
   "cell_type": "code",
   "execution_count": 154,
   "metadata": {},
   "outputs": [
    {
     "data": {
      "text/plain": [
       "\"Goodbye from Foo, class = <class '__main__.Foo'>\""
      ]
     },
     "execution_count": 154,
     "metadata": {},
     "output_type": "execute_result"
    }
   ],
   "source": [
    "Foo.goodbye()"
   ]
  },
  {
   "cell_type": "markdown",
   "metadata": {},
   "source": [
    "# Next up:\n",
    "\n",
    "- Multiple inheritance and the MRO\n",
    "- Python object model\n",
    "- Metaclasses"
   ]
  },
  {
   "cell_type": "code",
   "execution_count": 155,
   "metadata": {},
   "outputs": [],
   "source": [
    "# Return :06"
   ]
  },
  {
   "cell_type": "markdown",
   "metadata": {},
   "source": [
    "# ICPO rule\n",
    "\n",
    "If we ask for an attribute on an object, then this is Python's search path for that attribute:\n",
    "\n",
    "- `I` instance\n",
    "- `C` instance's class\n",
    "- `P` parent of the instance's class\n",
    "- `O` `object`, the top of the object hierarchy in Python"
   ]
  },
  {
   "cell_type": "code",
   "execution_count": 158,
   "metadata": {},
   "outputs": [],
   "source": [
    "class A:\n",
    "    def __init__(self, x):\n",
    "        self.x = x\n",
    "        \n",
    "    def hello(self):\n",
    "        return f'Hello from A, where {self.x=}'\n",
    "        \n",
    "class B(A):   # B is a subclass of A, aka it inherits from A\n",
    "    def __init__(self, x, y):\n",
    "        super().__init__(x)   # this runs A.__init__(x), thus adding x as an attribute on our instance\n",
    "        self.y = y            # this adds y as an attribute on our instance\n",
    "        \n",
    "    def goodbye(self):\n",
    "        return f'Goodbye from B, where {self.y=}'\n",
    "        \n",
    "b = B(10, 20)"
   ]
  },
  {
   "cell_type": "code",
   "execution_count": 159,
   "metadata": {},
   "outputs": [
    {
     "data": {
      "text/plain": [
       "'Goodbye from B, where self.y=20'"
      ]
     },
     "execution_count": 159,
     "metadata": {},
     "output_type": "execute_result"
    }
   ],
   "source": [
    "b.goodbye()  # instance - no, class B - yes, it has an attribute named goodbye"
   ]
  },
  {
   "cell_type": "code",
   "execution_count": 160,
   "metadata": {},
   "outputs": [
    {
     "data": {
      "text/plain": [
       "'Hello from A, where self.x=10'"
      ]
     },
     "execution_count": 160,
     "metadata": {},
     "output_type": "execute_result"
    }
   ],
   "source": [
    "b.hello()    # instance - no, class B - no, is it on B's parent? YES -- A has an attribute named hello"
   ]
  },
  {
   "cell_type": "code",
   "execution_count": 161,
   "metadata": {},
   "outputs": [
    {
     "data": {
      "text/plain": [
       "'<__main__.B object at 0x11057dd60>'"
      ]
     },
     "execution_count": 161,
     "metadata": {},
     "output_type": "execute_result"
    }
   ],
   "source": [
    "b.__repr__()  # instance - no, class B - no, class A - no, object "
   ]
  },
  {
   "cell_type": "code",
   "execution_count": 162,
   "metadata": {},
   "outputs": [],
   "source": [
    "# Never does a method sit on an instance.\n",
    "# 100% of methods in Python are class attributes.\n",
    "# They are defined in the \"class\" definition."
   ]
  },
  {
   "cell_type": "code",
   "execution_count": 163,
   "metadata": {},
   "outputs": [],
   "source": [
    "# In order for methods to work in Python, we always do this lookup:\n",
    "# - first look on the instance for the method. It isn't there.\n",
    "# - then look on the class for the method. It'll usually be there.\n",
    "# - if not, then look on the parent"
   ]
  },
  {
   "cell_type": "code",
   "execution_count": 165,
   "metadata": {},
   "outputs": [
    {
     "data": {
      "text/plain": [
       "20"
      ]
     },
     "execution_count": 165,
     "metadata": {},
     "output_type": "execute_result"
    }
   ],
   "source": [
    "b.y  # methods aren't on the instances, but data attributes *are*"
   ]
  },
  {
   "cell_type": "code",
   "execution_count": 166,
   "metadata": {},
   "outputs": [],
   "source": [
    "# we can make it even worse:\n",
    "# NEVER EVER EVER DO THIS IN REAL LIFE\n",
    "# (unless your officemate goes to make a cup of coffee)\n",
    "\n",
    "b.goodbye = lambda : 'Ha ha ha I hijacked goodbye'\n"
   ]
  },
  {
   "cell_type": "code",
   "execution_count": 167,
   "metadata": {},
   "outputs": [
    {
     "data": {
      "text/plain": [
       "'Ha ha ha I hijacked goodbye'"
      ]
     },
     "execution_count": 167,
     "metadata": {},
     "output_type": "execute_result"
    }
   ],
   "source": [
    "b.goodbye()  # searches on the instance"
   ]
  },
  {
   "cell_type": "code",
   "execution_count": 168,
   "metadata": {},
   "outputs": [],
   "source": [
    "del(b.goodbye)  # remove this instance attribute"
   ]
  },
  {
   "cell_type": "code",
   "execution_count": 169,
   "metadata": {},
   "outputs": [
    {
     "data": {
      "text/plain": [
       "'Goodbye from B, where self.y=20'"
      ]
     },
     "execution_count": 169,
     "metadata": {},
     "output_type": "execute_result"
    }
   ],
   "source": [
    "b.goodbye()"
   ]
  },
  {
   "cell_type": "code",
   "execution_count": 170,
   "metadata": {},
   "outputs": [],
   "source": [
    "class A:\n",
    "    def __init__(self, x):\n",
    "        self.x = x\n",
    "        \n",
    "    def hello(self):\n",
    "        return f'Hello from A, where {self.x=}'\n",
    "        \n",
    "class N:\n",
    "    def __init__(self, z):\n",
    "        self.z = z\n",
    "        \n",
    "    def whatever(self):\n",
    "        return f'Hello from N, where {self.z=}'\n",
    "\n",
    "# multiple inheritance\n",
    "class B(A, N):   # B is a subclass of both A and N\n",
    "    def __init__(self, x, y, z):\n",
    "        A.__init__(self, x)  # initialize attributes for A\n",
    "        N.__init__(self, z)  # initialize attributes for N\n",
    "\n",
    "        self.y = y            # this adds y as an attribute on our instance\n",
    "        \n",
    "    def goodbye(self):\n",
    "        return f'Goodbye from B, where {self.y=}'\n",
    "        \n",
    "# what if we want B to inherit from not just A, but also something else?\n",
    "\n",
    "b = B(10, 20, 30)"
   ]
  },
  {
   "cell_type": "code",
   "execution_count": 171,
   "metadata": {},
   "outputs": [
    {
     "data": {
      "text/plain": [
       "'Goodbye from B, where self.y=20'"
      ]
     },
     "execution_count": 171,
     "metadata": {},
     "output_type": "execute_result"
    }
   ],
   "source": [
    "b.goodbye()  # on b? No. On B? Yes."
   ]
  },
  {
   "cell_type": "code",
   "execution_count": 173,
   "metadata": {},
   "outputs": [
    {
     "data": {
      "text/plain": [
       "'Hello from A, where self.x=10'"
      ]
     },
     "execution_count": 173,
     "metadata": {},
     "output_type": "execute_result"
    }
   ],
   "source": [
    "b.hello()  # on b? No. On B? No. On A, the first parent? Yes."
   ]
  },
  {
   "cell_type": "code",
   "execution_count": 174,
   "metadata": {},
   "outputs": [
    {
     "data": {
      "text/plain": [
       "'Hello from N, where self.z=30'"
      ]
     },
     "execution_count": 174,
     "metadata": {},
     "output_type": "execute_result"
    }
   ],
   "source": [
    "b.whatever()  # on b? No. On B? No. On A, the first parent? No. On N, the second parent? YES."
   ]
  },
  {
   "cell_type": "code",
   "execution_count": 175,
   "metadata": {},
   "outputs": [],
   "source": [
    "# instance is b\n",
    "# class is B  (capital B)\n",
    "# parents of B are both A and N\n"
   ]
  },
  {
   "cell_type": "code",
   "execution_count": 176,
   "metadata": {},
   "outputs": [
    {
     "data": {
      "text/plain": [
       "(__main__.A, __main__.N)"
      ]
     },
     "execution_count": 176,
     "metadata": {},
     "output_type": "execute_result"
    }
   ],
   "source": [
    "# how can we know what a class inherits from ? Check its __bases__ attribute, a tuple\n",
    "B.__bases__"
   ]
  },
  {
   "cell_type": "code",
   "execution_count": 177,
   "metadata": {},
   "outputs": [
    {
     "data": {
      "text/plain": [
       "(object,)"
      ]
     },
     "execution_count": 177,
     "metadata": {},
     "output_type": "execute_result"
    }
   ],
   "source": [
    "A.__bases__"
   ]
  },
  {
   "cell_type": "code",
   "execution_count": 178,
   "metadata": {},
   "outputs": [
    {
     "data": {
      "text/plain": [
       "(object,)"
      ]
     },
     "execution_count": 178,
     "metadata": {},
     "output_type": "execute_result"
    }
   ],
   "source": [
    "N.__bases__"
   ]
  },
  {
   "cell_type": "code",
   "execution_count": 179,
   "metadata": {},
   "outputs": [
    {
     "data": {
      "text/plain": [
       "()"
      ]
     },
     "execution_count": 179,
     "metadata": {},
     "output_type": "execute_result"
    }
   ],
   "source": [
    "object.__bases__"
   ]
  },
  {
   "cell_type": "code",
   "execution_count": 180,
   "metadata": {},
   "outputs": [
    {
     "data": {
      "text/plain": [
       "(__main__.B, __main__.A, __main__.N, object)"
      ]
     },
     "execution_count": 180,
     "metadata": {},
     "output_type": "execute_result"
    }
   ],
   "source": [
    "# summarize this as MRO -- method resolution order\n",
    "B.__mro__"
   ]
  },
  {
   "cell_type": "code",
   "execution_count": 181,
   "metadata": {},
   "outputs": [],
   "source": [
    "# if you use multiple inheritance, then the classes in __bases__ must always have\n",
    "# children before parents.\n",
    "\n",
    "# if you try to put a parent class before a child class in the __bases__ attribute,\n",
    "# then Python will refuse to define the class."
   ]
  },
  {
   "cell_type": "code",
   "execution_count": 182,
   "metadata": {},
   "outputs": [
    {
     "ename": "AttributeError",
     "evalue": "'B' object has no attribute '__mro__'",
     "output_type": "error",
     "traceback": [
      "\u001b[0;31m---------------------------------------------------------------------------\u001b[0m",
      "\u001b[0;31mAttributeError\u001b[0m                            Traceback (most recent call last)",
      "\u001b[0;32m<ipython-input-182-33326c1ec82c>\u001b[0m in \u001b[0;36m<module>\u001b[0;34m\u001b[0m\n\u001b[0;32m----> 1\u001b[0;31m \u001b[0mb\u001b[0m\u001b[0;34m.\u001b[0m\u001b[0m__mro__\u001b[0m \u001b[0;31m# what is the __mro__ of the instance?\u001b[0m\u001b[0;34m\u001b[0m\u001b[0;34m\u001b[0m\u001b[0m\n\u001b[0m",
      "\u001b[0;31mAttributeError\u001b[0m: 'B' object has no attribute '__mro__'"
     ]
    }
   ],
   "source": [
    "b.__mro__ # what is the __mro__ of the instance?"
   ]
  },
  {
   "cell_type": "code",
   "execution_count": 184,
   "metadata": {},
   "outputs": [
    {
     "data": {
      "text/plain": [
       "mappingproxy({'__module__': '__main__',\n",
       "              '__init__': <function __main__.B.__init__(self, x, y, z)>,\n",
       "              'goodbye': <function __main__.B.goodbye(self)>,\n",
       "              '__doc__': None})"
      ]
     },
     "execution_count": 184,
     "metadata": {},
     "output_type": "execute_result"
    }
   ],
   "source": [
    "B.__dict__"
   ]
  },
  {
   "cell_type": "code",
   "execution_count": 186,
   "metadata": {},
   "outputs": [],
   "source": [
    "class MyClass(B, A, N):   # Python allows this, because B is a child of A, A is a child of N\n",
    "    pass"
   ]
  },
  {
   "cell_type": "code",
   "execution_count": 187,
   "metadata": {},
   "outputs": [
    {
     "ename": "TypeError",
     "evalue": "Cannot create a consistent method resolution\norder (MRO) for bases N, A, B",
     "output_type": "error",
     "traceback": [
      "\u001b[0;31m---------------------------------------------------------------------------\u001b[0m",
      "\u001b[0;31mTypeError\u001b[0m                                 Traceback (most recent call last)",
      "\u001b[0;32m<ipython-input-187-bb2fc58e86d4>\u001b[0m in \u001b[0;36m<module>\u001b[0;34m\u001b[0m\n\u001b[0;32m----> 1\u001b[0;31m \u001b[0;32mclass\u001b[0m \u001b[0mMyClass\u001b[0m\u001b[0;34m(\u001b[0m\u001b[0mN\u001b[0m\u001b[0;34m,\u001b[0m \u001b[0mA\u001b[0m\u001b[0;34m,\u001b[0m \u001b[0mB\u001b[0m\u001b[0;34m)\u001b[0m\u001b[0;34m:\u001b[0m  \u001b[0;31m# Python will *not* allow this, because B is a child of A, but comes after it\u001b[0m\u001b[0;34m\u001b[0m\u001b[0;34m\u001b[0m\u001b[0m\n\u001b[0m\u001b[1;32m      2\u001b[0m     \u001b[0;32mpass\u001b[0m\u001b[0;34m\u001b[0m\u001b[0;34m\u001b[0m\u001b[0m\n",
      "\u001b[0;31mTypeError\u001b[0m: Cannot create a consistent method resolution\norder (MRO) for bases N, A, B"
     ]
    }
   ],
   "source": [
    "class MyClass(N, A, B):  # Python will *not* allow this, because B is a child of A, but comes after it\n",
    "    pass"
   ]
  },
  {
   "cell_type": "markdown",
   "metadata": {},
   "source": [
    "# Mixins\n",
    "\n",
    "A mixin is class that you inherit from, which has two qualities:\n",
    "\n",
    "1. It doesn't define any data attributes of its own\n",
    "2. It defines a small number of methods (often just one) that are designed to override methods in later classes in the MRO.\n",
    "\n",
    "In other words, instead of inheriting from one class, you inherit from two classes.  You inherit from the first (the mixin) so that it'll shadow, or block, your access to a method in the second class."
   ]
  },
  {
   "cell_type": "code",
   "execution_count": 194,
   "metadata": {},
   "outputs": [
    {
     "name": "stdout",
     "output_type": "stream",
     "text": [
      "Hello, name1!\n",
      "*** repr = {'name': 'name1'} ***\n"
     ]
    }
   ],
   "source": [
    "class GenericPerson:\n",
    "    def __init__(self, name):\n",
    "        self.name = name\n",
    "        \n",
    "    def greet(self):\n",
    "        return f'Hello, {self.name}!'\n",
    "    \n",
    "    def __repr__(self):\n",
    "        return f'Person instance, {vars(self)=}'\n",
    "    \n",
    "class FancyReprMixin:\n",
    "    def __repr__(self):\n",
    "        return f'*** repr = {vars(self)} ***'\n",
    "    \n",
    "class Person(FancyReprMixin, GenericPerson):   # add the mixin class *BEFORE* the real parent\n",
    "    pass\n",
    "\n",
    "p = Person('name1')\n",
    "print(p.greet())   # p has greet? no. p's class Person has greet? no. FancyReprMixin has greet? No. Genericperson has greet? yes\n",
    "print(p)  # p has __repr__? no. p's class Person has __repr__? no. FancyReprMixin has __repr__? Yes."
   ]
  },
  {
   "cell_type": "code",
   "execution_count": 195,
   "metadata": {},
   "outputs": [],
   "source": [
    "class SpecialType(type):\n",
    "    pass\n",
    "\n",
    "class UseSpecialType(metaclass=SpecialType):  # this is how you set a different metaclass\n",
    "    pass"
   ]
  },
  {
   "cell_type": "code",
   "execution_count": 196,
   "metadata": {},
   "outputs": [
    {
     "data": {
      "text/plain": [
       "__main__.SpecialType"
      ]
     },
     "execution_count": 196,
     "metadata": {},
     "output_type": "execute_result"
    }
   ],
   "source": [
    "type(UseSpecialType)"
   ]
  },
  {
   "cell_type": "code",
   "execution_count": 197,
   "metadata": {},
   "outputs": [],
   "source": [
    "class SpecialType(type):\n",
    "    def __init__(self, *args, **kwargs):\n",
    "        super().__init__(*args, **kwargs)\n",
    "        self.x = 100\n",
    "\n",
    "class UseSpecialType(metaclass=SpecialType):  # this is how you set a different metaclass\n",
    "    pass\n",
    "\n",
    "\n",
    "# when I create a new object (of any sort)\n",
    "# - we call the class  \n",
    "# - that calls __new__\n",
    "# - that calls __init__ on the class\n",
    "# by the time __init__ is called, the new object exists, but it hasn't been returned to the caller"
   ]
  },
  {
   "cell_type": "code",
   "execution_count": 198,
   "metadata": {},
   "outputs": [
    {
     "data": {
      "text/plain": [
       "100"
      ]
     },
     "execution_count": 198,
     "metadata": {},
     "output_type": "execute_result"
    }
   ],
   "source": [
    "UseSpecialType.x   # class attribute set by my metaclass, SpecialType"
   ]
  },
  {
   "cell_type": "markdown",
   "metadata": {},
   "source": [
    "# Next up:\n",
    "\n",
    "- Properties\n",
    "- Descriptors \n",
    "- Functions vs. methods"
   ]
  },
  {
   "cell_type": "markdown",
   "metadata": {},
   "source": [
    "# Properties\n",
    "\n"
   ]
  },
  {
   "cell_type": "code",
   "execution_count": 199,
   "metadata": {},
   "outputs": [
    {
     "name": "stdout",
     "output_type": "stream",
     "text": [
      "20\n",
      "23\n"
     ]
    }
   ],
   "source": [
    "# let's say that our company makes thermostats\n",
    "# we allow people to control the thermostats in Python (of course)\n",
    "\n",
    "class Thermostat:\n",
    "    def __init__(self, temp):     # degrees Celsius\n",
    "        self.temp = temp\n",
    "        \n",
    "t = Thermostat(20)\n",
    "print(t.temp)\n",
    "t.temp = 23\n",
    "print(t.temp)"
   ]
  },
  {
   "cell_type": "code",
   "execution_count": 207,
   "metadata": {},
   "outputs": [
    {
     "name": "stdout",
     "output_type": "stream",
     "text": [
      "Calling temp getter method at 1632075508.640758\n",
      "20\n",
      "Calling temp setter method with 23 at 1632075508.640966\n",
      "Calling temp getter method at 1632075508.641002\n",
      "23\n"
     ]
    }
   ],
   "source": [
    "# how can we stop people from setting the temp to be too low, or too high?\n",
    "# answer: we'll use setters and getters!\n",
    "\n",
    "# but wait -- we have existing customers\n",
    "# cannot break the existing API\n",
    "\n",
    "# this is where *properties* come in\n",
    "# a property is a special kind of attribute that looks like data, but works like a method\n",
    "\n",
    "import time\n",
    "\n",
    "class TempTooLowError(Exception):\n",
    "    pass\n",
    "\n",
    "class TempTooHighError(Exception):\n",
    "    pass\n",
    "\n",
    "class Thermostat:\n",
    "    def __init__(self, temp):     # degrees Celsius\n",
    "        self._temp = temp         # setting _temp, a \"private\" attribute on self\n",
    "        \n",
    "    @property                     # property decorator\n",
    "    def temp(self):               # defining a getter method\n",
    "        print(f'Calling temp getter method at {time.time()}')\n",
    "        return self._temp         # return self._temp\n",
    "    \n",
    "    @temp.setter\n",
    "    def temp(self, new_temp):\n",
    "        print(f'Calling temp setter method with {new_temp} at {time.time()}')\n",
    "\n",
    "        if new_temp < 8:\n",
    "            raise TempTooLowError(f'Min temp is 8')\n",
    "            \n",
    "        if new_temp > 30:\n",
    "            raise TempTooHighError('Max temp is 30')\n",
    "            \n",
    "        self._temp = new_temp\n",
    "        \n",
    "t = Thermostat(20)\n",
    "print(t.temp)           # we're really calling the \"temp\" getter method\n",
    "\n",
    "t.temp = 23\n",
    "print(t.temp)"
   ]
  },
  {
   "cell_type": "code",
   "execution_count": 208,
   "metadata": {
    "scrolled": true
   },
   "outputs": [
    {
     "name": "stdout",
     "output_type": "stream",
     "text": [
      "Calling temp setter method with 0 at 1632075610.580023\n"
     ]
    },
    {
     "ename": "TempTooLowError",
     "evalue": "Min temp is 8",
     "output_type": "error",
     "traceback": [
      "\u001b[0;31m---------------------------------------------------------------------------\u001b[0m",
      "\u001b[0;31mTempTooLowError\u001b[0m                           Traceback (most recent call last)",
      "\u001b[0;32m<ipython-input-208-17b1b6d385f8>\u001b[0m in \u001b[0;36m<module>\u001b[0;34m\u001b[0m\n\u001b[0;32m----> 1\u001b[0;31m \u001b[0mt\u001b[0m\u001b[0;34m.\u001b[0m\u001b[0mtemp\u001b[0m \u001b[0;34m=\u001b[0m \u001b[0;36m0\u001b[0m\u001b[0;34m\u001b[0m\u001b[0;34m\u001b[0m\u001b[0m\n\u001b[0m",
      "\u001b[0;32m<ipython-input-207-923b146d1ff2>\u001b[0m in \u001b[0;36mtemp\u001b[0;34m(self, new_temp)\u001b[0m\n\u001b[1;32m     30\u001b[0m \u001b[0;34m\u001b[0m\u001b[0m\n\u001b[1;32m     31\u001b[0m         \u001b[0;32mif\u001b[0m \u001b[0mnew_temp\u001b[0m \u001b[0;34m<\u001b[0m \u001b[0;36m8\u001b[0m\u001b[0;34m:\u001b[0m\u001b[0;34m\u001b[0m\u001b[0;34m\u001b[0m\u001b[0m\n\u001b[0;32m---> 32\u001b[0;31m             \u001b[0;32mraise\u001b[0m \u001b[0mTempTooLowError\u001b[0m\u001b[0;34m(\u001b[0m\u001b[0;34mf'Min temp is 8'\u001b[0m\u001b[0;34m)\u001b[0m\u001b[0;34m\u001b[0m\u001b[0;34m\u001b[0m\u001b[0m\n\u001b[0m\u001b[1;32m     33\u001b[0m \u001b[0;34m\u001b[0m\u001b[0m\n\u001b[1;32m     34\u001b[0m         \u001b[0;32mif\u001b[0m \u001b[0mnew_temp\u001b[0m \u001b[0;34m>\u001b[0m \u001b[0;36m30\u001b[0m\u001b[0;34m:\u001b[0m\u001b[0;34m\u001b[0m\u001b[0;34m\u001b[0m\u001b[0m\n",
      "\u001b[0;31mTempTooLowError\u001b[0m: Min temp is 8"
     ]
    }
   ],
   "source": [
    "t.temp = 0"
   ]
  },
  {
   "cell_type": "code",
   "execution_count": 209,
   "metadata": {},
   "outputs": [
    {
     "name": "stdout",
     "output_type": "stream",
     "text": [
      "Calling temp setter method with 100 at 1632075620.682146\n"
     ]
    },
    {
     "ename": "TempTooHighError",
     "evalue": "Max temp is 30",
     "output_type": "error",
     "traceback": [
      "\u001b[0;31m---------------------------------------------------------------------------\u001b[0m",
      "\u001b[0;31mTempTooHighError\u001b[0m                          Traceback (most recent call last)",
      "\u001b[0;32m<ipython-input-209-a890789f5085>\u001b[0m in \u001b[0;36m<module>\u001b[0;34m\u001b[0m\n\u001b[0;32m----> 1\u001b[0;31m \u001b[0mt\u001b[0m\u001b[0;34m.\u001b[0m\u001b[0mtemp\u001b[0m \u001b[0;34m=\u001b[0m \u001b[0;36m100\u001b[0m\u001b[0;34m\u001b[0m\u001b[0;34m\u001b[0m\u001b[0m\n\u001b[0m",
      "\u001b[0;32m<ipython-input-207-923b146d1ff2>\u001b[0m in \u001b[0;36mtemp\u001b[0;34m(self, new_temp)\u001b[0m\n\u001b[1;32m     33\u001b[0m \u001b[0;34m\u001b[0m\u001b[0m\n\u001b[1;32m     34\u001b[0m         \u001b[0;32mif\u001b[0m \u001b[0mnew_temp\u001b[0m \u001b[0;34m>\u001b[0m \u001b[0;36m30\u001b[0m\u001b[0;34m:\u001b[0m\u001b[0;34m\u001b[0m\u001b[0;34m\u001b[0m\u001b[0m\n\u001b[0;32m---> 35\u001b[0;31m             \u001b[0;32mraise\u001b[0m \u001b[0mTempTooHighError\u001b[0m\u001b[0;34m(\u001b[0m\u001b[0;34m'Max temp is 30'\u001b[0m\u001b[0;34m)\u001b[0m\u001b[0;34m\u001b[0m\u001b[0;34m\u001b[0m\u001b[0m\n\u001b[0m\u001b[1;32m     36\u001b[0m \u001b[0;34m\u001b[0m\u001b[0m\n\u001b[1;32m     37\u001b[0m         \u001b[0mself\u001b[0m\u001b[0;34m.\u001b[0m\u001b[0m_temp\u001b[0m \u001b[0;34m=\u001b[0m \u001b[0mnew_temp\u001b[0m\u001b[0;34m\u001b[0m\u001b[0;34m\u001b[0m\u001b[0m\n",
      "\u001b[0;31mTempTooHighError\u001b[0m: Max temp is 30"
     ]
    }
   ],
   "source": [
    "t.temp = 100"
   ]
  },
  {
   "cell_type": "markdown",
   "metadata": {},
   "source": [
    "# Properties\n",
    "\n",
    "- Properties look like regular attributes, but they're actually calling methods behind the scenes\n",
    "    - Retrieving from a property calls the getter method (under `@property`)\n",
    "    - Setting a property calls the setter method (under `@temp.setter`)\n",
    "- In your getter/setter methods, you can do whatever you want\n",
    "- I'd argue that you usually want to use properties whenever you have an API change\n",
    "- This allows you to start with very simple object definitions and attributes, and over time enforce all sorts of value limitations/guard rails\n",
    "\n",
    "Properties only work because they are class attributes accessed via the instance.  "
   ]
  },
  {
   "cell_type": "code",
   "execution_count": 210,
   "metadata": {},
   "outputs": [
    {
     "name": "stdout",
     "output_type": "stream",
     "text": [
      "Calling temp setter method with 20 at 1632075884.435084\n",
      "Calling temp getter method at 1632075884.435403\n",
      "20\n",
      "Calling temp setter method with 23 at 1632075884.435454\n",
      "Calling temp getter method at 1632075884.435683\n",
      "23\n"
     ]
    }
   ],
   "source": [
    "# how can we stop people from setting the temp to be too low, or too high?\n",
    "# answer: we'll use setters and getters!\n",
    "\n",
    "# but wait -- we have existing customers\n",
    "# cannot break the existing API\n",
    "\n",
    "# this is where *properties* come in\n",
    "# a property is a special kind of attribute that looks like data, but works like a method\n",
    "\n",
    "import time\n",
    "\n",
    "class TempTooLowError(Exception):\n",
    "    pass\n",
    "\n",
    "class TempTooHighError(Exception):\n",
    "    pass\n",
    "\n",
    "class Thermostat:\n",
    "    def __init__(self):     # degrees Celsius\n",
    "        self._temp = None         # setting _temp, a \"private\" attribute on self\n",
    "        \n",
    "    @property                     # property decorator\n",
    "    def temp(self):               # defining a getter method\n",
    "        print(f'Calling temp getter method at {time.time()}')\n",
    "        return self._temp         # return self._temp\n",
    "    \n",
    "    @temp.setter\n",
    "    def temp(self, new_temp):\n",
    "        print(f'Calling temp setter method with {new_temp} at {time.time()}')\n",
    "\n",
    "        if new_temp < 8:\n",
    "            raise TempTooLowError(f'Min temp is 8')\n",
    "            \n",
    "        if new_temp > 30:\n",
    "            raise TempTooHighError('Max temp is 30')\n",
    "            \n",
    "        self._temp = new_temp\n",
    "        \n",
    "t = Thermostat()\n",
    "t.temp = 20\n",
    "print(t.temp)           # we're really calling the \"temp\" getter method\n",
    "\n",
    "t.temp = 23\n",
    "print(t.temp)"
   ]
  },
  {
   "cell_type": "code",
   "execution_count": 214,
   "metadata": {},
   "outputs": [
    {
     "name": "stdout",
     "output_type": "stream",
     "text": [
      "Calling temp setter method with 20 at 1632076057.154473\n",
      "Calling temp getter method at 1632076057.154729\n",
      "20\n",
      "Calling temp setter method with 23 at 1632076057.154944\n",
      "Calling temp getter method at 1632076057.155029\n",
      "23\n"
     ]
    }
   ],
   "source": [
    "\n",
    "import time\n",
    "\n",
    "class TempTooLowError(Exception):\n",
    "    pass\n",
    "\n",
    "class TempTooHighError(Exception):\n",
    "    pass\n",
    "\n",
    "class Thermostat:\n",
    "    def __init__(self, temp):     # degrees Celsius\n",
    "        self.temp = temp          # setting temp, our property via the instance\n",
    "        \n",
    "    @property                     # property decorator\n",
    "    def temp(self):               # defining a getter method\n",
    "        print(f'Calling temp getter method at {time.time()}')\n",
    "        return self._temp         # return self._temp\n",
    "    \n",
    "    @temp.setter\n",
    "    def temp(self, new_temp):\n",
    "        print(f'Calling temp setter method with {new_temp} at {time.time()}')\n",
    "\n",
    "        if new_temp < 8:\n",
    "            raise TempTooLowError(f'Min temp is 8')\n",
    "            \n",
    "        if new_temp > 30:\n",
    "            raise TempTooHighError('Max temp is 30')\n",
    "            \n",
    "        self._temp = new_temp\n",
    "        \n",
    "t = Thermostat(20)\n",
    "print(t.temp)           # we're really calling the \"temp\" getter method\n",
    "\n",
    "t.temp = 23\n",
    "print(t.temp)"
   ]
  },
  {
   "cell_type": "code",
   "execution_count": 213,
   "metadata": {},
   "outputs": [
    {
     "data": {
      "text/plain": [
       "<property at 0x110575590>"
      ]
     },
     "execution_count": 213,
     "metadata": {},
     "output_type": "execute_result"
    }
   ],
   "source": [
    "Thermostat.temp"
   ]
  },
  {
   "cell_type": "markdown",
   "metadata": {},
   "source": [
    "# Exercise: Randhist\n",
    "\n",
    "1. Create a class, `Randhist`, that when you create an instance, and retrieve from the `rand` attribute, you'll get a random number.\n",
    "2. When you retrieve from its `hist` attribute, you'll get a list of the random numbers that were previously returned by `rand`.\n",
    "3. Assigning to `rand` (any value at all) will reset the history to be an empty list.\n",
    "4. Remember that you can get a random number from 0-100 with `random.randint(0, 100)`.\n",
    "\n",
    "Example:\n",
    "\n",
    "    rh = RandHist()\n",
    "    print(rh.rand)   # 35\n",
    "    print(rh.rand)   # 82\n",
    "    print(rh.rand)   # 6\n",
    "    print(rh.hist)   # [35, 82, 6]\n",
    "    rh.rand = None\n",
    "    print(rh.hist)   # [ ]"
   ]
  },
  {
   "cell_type": "code",
   "execution_count": 223,
   "metadata": {},
   "outputs": [
    {
     "name": "stdout",
     "output_type": "stream",
     "text": [
      "49\n",
      "97\n",
      "53\n",
      "5\n",
      "33\n"
     ]
    }
   ],
   "source": [
    "import random\n",
    "\n",
    "random.seed(0)\n",
    "\n",
    "class RandHist:\n",
    "    def __init__(self):\n",
    "        self.hist = []\n",
    "        \n",
    "    @property\n",
    "    def rand(self):\n",
    "        n = random.randint(0, 100)\n",
    "        self.hist.append(n)\n",
    "        return n\n",
    "    \n",
    "    @rand.setter\n",
    "    def rand(self, new_value):\n",
    "        self.hist = []\n",
    "    \n",
    "rh = RandHist()\n",
    "for i in range(5):\n",
    "    print(rh.rand)"
   ]
  },
  {
   "cell_type": "code",
   "execution_count": 224,
   "metadata": {},
   "outputs": [
    {
     "data": {
      "text/plain": [
       "[49, 97, 53, 5, 33]"
      ]
     },
     "execution_count": 224,
     "metadata": {},
     "output_type": "execute_result"
    }
   ],
   "source": [
    "rh.hist"
   ]
  },
  {
   "cell_type": "code",
   "execution_count": 225,
   "metadata": {},
   "outputs": [],
   "source": [
    "rh.rand = 'something'"
   ]
  },
  {
   "cell_type": "code",
   "execution_count": 226,
   "metadata": {},
   "outputs": [
    {
     "data": {
      "text/plain": [
       "[]"
      ]
     },
     "execution_count": 226,
     "metadata": {},
     "output_type": "execute_result"
    }
   ],
   "source": [
    "rh.hist"
   ]
  },
  {
   "cell_type": "code",
   "execution_count": 227,
   "metadata": {},
   "outputs": [
    {
     "data": {
      "text/plain": [
       "65"
      ]
     },
     "execution_count": 227,
     "metadata": {},
     "output_type": "execute_result"
    }
   ],
   "source": [
    "rh.rand"
   ]
  },
  {
   "cell_type": "code",
   "execution_count": 228,
   "metadata": {},
   "outputs": [
    {
     "data": {
      "text/plain": [
       "[65]"
      ]
     },
     "execution_count": 228,
     "metadata": {},
     "output_type": "execute_result"
    }
   ],
   "source": [
    "rh.hist"
   ]
  },
  {
   "cell_type": "code",
   "execution_count": null,
   "metadata": {},
   "outputs": [],
   "source": []
  },
  {
   "cell_type": "code",
   "execution_count": 229,
   "metadata": {},
   "outputs": [
    {
     "data": {
      "text/plain": [
       "'ABCD'"
      ]
     },
     "execution_count": 229,
     "metadata": {},
     "output_type": "execute_result"
    }
   ],
   "source": [
    "s = 'abcd'\n",
    "s.upper()"
   ]
  },
  {
   "cell_type": "code",
   "execution_count": 230,
   "metadata": {},
   "outputs": [
    {
     "data": {
      "text/plain": [
       "'ABCD'"
      ]
     },
     "execution_count": 230,
     "metadata": {},
     "output_type": "execute_result"
    }
   ],
   "source": [
    "# the call to s.upper() is turned into\n",
    "str.upper(s)"
   ]
  },
  {
   "cell_type": "markdown",
   "metadata": {},
   "source": [
    "# Descriptors\n",
    "\n",
    "- How are method calls rewritten, so that we can either invoke them via the instance or the class?\n",
    "- Who is rewriting things, so that our instance becomes `self`?\n",
    "- When we retrieve a property, who is invoking the method?\n",
    "\n",
    "The answer to all of these is: Descriptors.\n",
    "\n",
    "Descriptors are the deepest part of Python objects.  They are:\n",
    "\n",
    "- Objects defined as class attributes\n",
    "- But you must retrieve the object via an instance\n",
    "- When you retrieve the class attribute via the instance, the `__get__` method on that object is invoked\n",
    "- When you set the class attribute via the instance, the `__set__` method on that object is invoked.\n",
    "\n",
    "In other words, if we define a class that has `__get__` and `__set__` defined, and then create an instance of that class as a class attribute, and then retrieve that instance via an instance, then we'll use descriptors.\n",
    "\n",
    "Another way to think about it: What if we have 100 different products in our company, all of which need temperature protection?  Instead of defining the property, one class at a time, we can define a new class called SafeTemp, and then use that on all of our products."
   ]
  },
  {
   "cell_type": "code",
   "execution_count": 233,
   "metadata": {
    "scrolled": true
   },
   "outputs": [
    {
     "name": "stdout",
     "output_type": "stream",
     "text": [
      "Creating the Thermostat class\n",
      "Now in SafeTemp.__init__\n",
      "\n",
      "Now creating the Thermostat instance\n",
      "Now in __set__, with self=<__main__.SafeTemp object at 0x110547d30>, instance=<__main__.Thermostat object at 0x110591250>, new_temp=20\n",
      "\n",
      "Now in __get__, with self=<__main__.SafeTemp object at 0x110547d30>, instance=<__main__.Thermostat object at 0x110591250>, owner=<class '__main__.Thermostat'>\n",
      "\n",
      "20\n",
      "Now in __set__, with self=<__main__.SafeTemp object at 0x110547d30>, instance=<__main__.Thermostat object at 0x110591250>, new_temp=23\n",
      "\n",
      "Now in __get__, with self=<__main__.SafeTemp object at 0x110547d30>, instance=<__main__.Thermostat object at 0x110591250>, owner=<class '__main__.Thermostat'>\n",
      "\n",
      "23\n"
     ]
    }
   ],
   "source": [
    "class SafeTemp:   # each instance of SafeTemp will be a class attribute on a product (e.g., Thermostat)\n",
    "\n",
    "    def __init__(self):\n",
    "        print('Now in SafeTemp.__init__\\n')\n",
    "        self._temp = None\n",
    "        \n",
    "    def __get__(self, instance, owner):\n",
    "        print(f'Now in __get__, with {self=}, {instance=}, {owner=}\\n')\n",
    "        return self._temp\n",
    "    \n",
    "    def __set__(self, instance, new_temp):\n",
    "        print(f'Now in __set__, with {self=}, {instance=}, {new_temp=}\\n')\n",
    "        self._temp = new_temp\n",
    "        \n",
    "\n",
    "print('Creating the Thermostat class')\n",
    "class Thermostat:\n",
    "    def __init__(self, temp):\n",
    "        self.temp = temp   \n",
    "        \n",
    "    temp = SafeTemp()   # the \"temp\" class attribute on Thermostat is an instance of SafeTemp\n",
    "    \n",
    "print('Now creating the Thermostat instance')\n",
    "t = Thermostat(20)\n",
    "print(t.temp)        # retrieves the temp class attribute via the t instance\n",
    "t.temp = 23          # setting the temp class attribute via the t instance\n",
    "print(t.temp)        # retrieves the temp class attribute via the t instance"
   ]
  },
  {
   "cell_type": "code",
   "execution_count": 234,
   "metadata": {},
   "outputs": [
    {
     "name": "stdout",
     "output_type": "stream",
     "text": [
      "Now in __set__, with self=<__main__.SafeTemp object at 0x110547d30>, instance=<__main__.Thermostat object at 0x110591160>, new_temp=27\n",
      "\n",
      "Now in __get__, with self=<__main__.SafeTemp object at 0x110547d30>, instance=<__main__.Thermostat object at 0x110591160>, owner=<class '__main__.Thermostat'>\n",
      "\n"
     ]
    },
    {
     "data": {
      "text/plain": [
       "27"
      ]
     },
     "execution_count": 234,
     "metadata": {},
     "output_type": "execute_result"
    }
   ],
   "source": [
    "t2 = Thermostat(27)\n",
    "t2.temp"
   ]
  },
  {
   "cell_type": "code",
   "execution_count": 235,
   "metadata": {},
   "outputs": [
    {
     "name": "stdout",
     "output_type": "stream",
     "text": [
      "Now in __get__, with self=<__main__.SafeTemp object at 0x110547d30>, instance=<__main__.Thermostat object at 0x110591250>, owner=<class '__main__.Thermostat'>\n",
      "\n"
     ]
    },
    {
     "data": {
      "text/plain": [
       "27"
      ]
     },
     "execution_count": 235,
     "metadata": {},
     "output_type": "execute_result"
    }
   ],
   "source": [
    "t.temp"
   ]
  },
  {
   "cell_type": "code",
   "execution_count": 236,
   "metadata": {},
   "outputs": [
    {
     "name": "stdout",
     "output_type": "stream",
     "text": [
      "Now in __set__, with self=<__main__.SafeTemp object at 0x110547d30>, instance=<__main__.Thermostat object at 0x110591160>, new_temp=20\n",
      "\n",
      "Now in __get__, with self=<__main__.SafeTemp object at 0x110547d30>, instance=<__main__.Thermostat object at 0x110591160>, owner=<class '__main__.Thermostat'>\n",
      "\n"
     ]
    },
    {
     "data": {
      "text/plain": [
       "20"
      ]
     },
     "execution_count": 236,
     "metadata": {},
     "output_type": "execute_result"
    }
   ],
   "source": [
    "t2.temp = 20\n",
    "t2.temp"
   ]
  },
  {
   "cell_type": "code",
   "execution_count": 237,
   "metadata": {},
   "outputs": [
    {
     "name": "stdout",
     "output_type": "stream",
     "text": [
      "Now in __get__, with self=<__main__.SafeTemp object at 0x110547d30>, instance=<__main__.Thermostat object at 0x110591250>, owner=<class '__main__.Thermostat'>\n",
      "\n"
     ]
    },
    {
     "data": {
      "text/plain": [
       "20"
      ]
     },
     "execution_count": 237,
     "metadata": {},
     "output_type": "execute_result"
    }
   ],
   "source": [
    "t.temp"
   ]
  },
  {
   "cell_type": "markdown",
   "metadata": {},
   "source": [
    "# The problem\n",
    "\n",
    "We have `Thermostat`, a class.  It has a class attribute, `temp`.\n",
    "\n",
    "If we retrieve from that attribute via an instance of `Thermostat`, then we're getting the value of the `SafeTemp` class attribute `_temp`.  \n",
    "\n",
    "If we set the attribute `temp` on an instance of `Thermostat`, then we're setting the value of the `SafeTemp` class attribute `_temp`.\n",
    "\n",
    "This is a problem if we have more than one thermostat.  What we need to do is distinguish between the various instances of `Thermostat`.\n",
    "\n",
    "Fortunately, the second argument passed to `__get__` and `__set__` is the instance of `Thermostat` that was used to invoke the method.  Moreover, instances are hashable, and are thus usable as dict keys.\n",
    "\n",
    "So... we'll use a dictionary to keep track of the values of temp for each instance of `Thermostat`."
   ]
  },
  {
   "cell_type": "code",
   "execution_count": 241,
   "metadata": {},
   "outputs": [
    {
     "name": "stdout",
     "output_type": "stream",
     "text": [
      "Creating the Thermostat class\n",
      "Now in SafeTemp.__init__\n",
      "\n",
      "Now creating the Thermostat instance\n",
      "Now in __set__, with self=<__main__.SafeTemp object at 0x11057d850>, instance=<__main__.Thermostat object at 0x110591dc0>, new_temp=20\n",
      "\n",
      "Now in __set__, with self=<__main__.SafeTemp object at 0x11057d850>, instance=<__main__.Thermostat object at 0x110591610>, new_temp=18\n",
      "\n"
     ]
    }
   ],
   "source": [
    "\n",
    "class TempTooLowError(Exception):\n",
    "    pass\n",
    "\n",
    "class TempTooHighError(Exception):\n",
    "    pass\n",
    "\n",
    "\n",
    "class SafeTemp:   # each instance of SafeTemp will be a class attribute on a product (e.g., Thermostat)\n",
    "\n",
    "    def __init__(self):\n",
    "        print('Now in SafeTemp.__init__\\n')\n",
    "        self._temp = {}\n",
    "        \n",
    "    def __get__(self, instance, owner):\n",
    "        print(f'Now in __get__, with {self=}, {instance=}, {owner=}\\n')\n",
    "        return self._temp[instance]\n",
    "    \n",
    "    def __set__(self, instance, new_temp):\n",
    "        print(f'Now in __set__, with {self=}, {instance=}, {new_temp=}\\n')\n",
    "\n",
    "        if new_temp < 8:\n",
    "            raise TempTooLowError(f'Min temp is 8')\n",
    "            \n",
    "        if new_temp > 30:\n",
    "            raise TempTooHighError('Max temp is 30')\n",
    "\n",
    "        self._temp[instance] = new_temp\n",
    "\n",
    "\n",
    "print('Creating the Thermostat class')\n",
    "class Thermostat:\n",
    "    def __init__(self, temp):\n",
    "        self.temp = temp   \n",
    "        \n",
    "    temp = SafeTemp()   # the \"temp\" class attribute on Thermostat is an instance of SafeTemp\n",
    "    \n",
    "print('Now creating the Thermostat instance')\n",
    "t1 = Thermostat(20)\n",
    "t2 = Thermostat(18)\n"
   ]
  },
  {
   "cell_type": "code",
   "execution_count": 242,
   "metadata": {},
   "outputs": [
    {
     "name": "stdout",
     "output_type": "stream",
     "text": [
      "Now in __get__, with self=<__main__.SafeTemp object at 0x11057d850>, instance=<__main__.Thermostat object at 0x110591dc0>, owner=<class '__main__.Thermostat'>\n",
      "\n",
      "20\n"
     ]
    }
   ],
   "source": [
    "print(t1.temp)"
   ]
  },
  {
   "cell_type": "code",
   "execution_count": 243,
   "metadata": {},
   "outputs": [
    {
     "name": "stdout",
     "output_type": "stream",
     "text": [
      "Now in __get__, with self=<__main__.SafeTemp object at 0x11057d850>, instance=<__main__.Thermostat object at 0x110591610>, owner=<class '__main__.Thermostat'>\n",
      "\n",
      "18\n"
     ]
    }
   ],
   "source": [
    "print(t2.temp)"
   ]
  },
  {
   "cell_type": "code",
   "execution_count": 244,
   "metadata": {},
   "outputs": [
    {
     "name": "stdout",
     "output_type": "stream",
     "text": [
      "Now in __set__, with self=<__main__.SafeTemp object at 0x11057d850>, instance=<__main__.Thermostat object at 0x110591dc0>, new_temp=25\n",
      "\n",
      "Now in __set__, with self=<__main__.SafeTemp object at 0x11057d850>, instance=<__main__.Thermostat object at 0x110591610>, new_temp=24\n",
      "\n"
     ]
    }
   ],
   "source": [
    "t1.temp = 25\n",
    "t2.temp = 24"
   ]
  },
  {
   "cell_type": "code",
   "execution_count": 245,
   "metadata": {},
   "outputs": [
    {
     "name": "stdout",
     "output_type": "stream",
     "text": [
      "Now in __get__, with self=<__main__.SafeTemp object at 0x11057d850>, instance=<__main__.Thermostat object at 0x110591dc0>, owner=<class '__main__.Thermostat'>\n",
      "\n",
      "25\n"
     ]
    }
   ],
   "source": [
    "print(t1.temp)"
   ]
  },
  {
   "cell_type": "code",
   "execution_count": 246,
   "metadata": {},
   "outputs": [
    {
     "name": "stdout",
     "output_type": "stream",
     "text": [
      "Now in __get__, with self=<__main__.SafeTemp object at 0x11057d850>, instance=<__main__.Thermostat object at 0x110591610>, owner=<class '__main__.Thermostat'>\n",
      "\n",
      "24\n"
     ]
    }
   ],
   "source": [
    "print(t2.temp)"
   ]
  },
  {
   "cell_type": "code",
   "execution_count": 247,
   "metadata": {},
   "outputs": [
    {
     "name": "stdout",
     "output_type": "stream",
     "text": [
      "Now in __set__, with self=<__main__.SafeTemp object at 0x11057d850>, instance=<__main__.Thermostat object at 0x110591dc0>, new_temp=100\n",
      "\n"
     ]
    },
    {
     "ename": "TempTooHighError",
     "evalue": "Max temp is 30",
     "output_type": "error",
     "traceback": [
      "\u001b[0;31m---------------------------------------------------------------------------\u001b[0m",
      "\u001b[0;31mTempTooHighError\u001b[0m                          Traceback (most recent call last)",
      "\u001b[0;32m<ipython-input-247-5ea609b87648>\u001b[0m in \u001b[0;36m<module>\u001b[0;34m\u001b[0m\n\u001b[0;32m----> 1\u001b[0;31m \u001b[0mt1\u001b[0m\u001b[0;34m.\u001b[0m\u001b[0mtemp\u001b[0m \u001b[0;34m=\u001b[0m \u001b[0;36m100\u001b[0m\u001b[0;34m\u001b[0m\u001b[0;34m\u001b[0m\u001b[0m\n\u001b[0m",
      "\u001b[0;32m<ipython-input-241-038c1f09e0aa>\u001b[0m in \u001b[0;36m__set__\u001b[0;34m(self, instance, new_temp)\u001b[0m\n\u001b[1;32m     23\u001b[0m \u001b[0;34m\u001b[0m\u001b[0m\n\u001b[1;32m     24\u001b[0m         \u001b[0;32mif\u001b[0m \u001b[0mnew_temp\u001b[0m \u001b[0;34m>\u001b[0m \u001b[0;36m30\u001b[0m\u001b[0;34m:\u001b[0m\u001b[0;34m\u001b[0m\u001b[0;34m\u001b[0m\u001b[0m\n\u001b[0;32m---> 25\u001b[0;31m             \u001b[0;32mraise\u001b[0m \u001b[0mTempTooHighError\u001b[0m\u001b[0;34m(\u001b[0m\u001b[0;34m'Max temp is 30'\u001b[0m\u001b[0;34m)\u001b[0m\u001b[0;34m\u001b[0m\u001b[0;34m\u001b[0m\u001b[0m\n\u001b[0m\u001b[1;32m     26\u001b[0m \u001b[0;34m\u001b[0m\u001b[0m\n\u001b[1;32m     27\u001b[0m         \u001b[0mself\u001b[0m\u001b[0;34m.\u001b[0m\u001b[0m_temp\u001b[0m\u001b[0;34m[\u001b[0m\u001b[0minstance\u001b[0m\u001b[0;34m]\u001b[0m \u001b[0;34m=\u001b[0m \u001b[0mnew_temp\u001b[0m\u001b[0;34m\u001b[0m\u001b[0;34m\u001b[0m\u001b[0m\n",
      "\u001b[0;31mTempTooHighError\u001b[0m: Max temp is 30"
     ]
    }
   ],
   "source": [
    "t1.temp = 100"
   ]
  },
  {
   "cell_type": "code",
   "execution_count": 248,
   "metadata": {},
   "outputs": [
    {
     "name": "stdout",
     "output_type": "stream",
     "text": [
      "Now in __set__, with self=<__main__.SafeTemp object at 0x11057d850>, instance=<__main__.Thermostat object at 0x110591610>, new_temp=-5\n",
      "\n"
     ]
    },
    {
     "ename": "TempTooLowError",
     "evalue": "Min temp is 8",
     "output_type": "error",
     "traceback": [
      "\u001b[0;31m---------------------------------------------------------------------------\u001b[0m",
      "\u001b[0;31mTempTooLowError\u001b[0m                           Traceback (most recent call last)",
      "\u001b[0;32m<ipython-input-248-0d966b66b99b>\u001b[0m in \u001b[0;36m<module>\u001b[0;34m\u001b[0m\n\u001b[0;32m----> 1\u001b[0;31m \u001b[0mt2\u001b[0m\u001b[0;34m.\u001b[0m\u001b[0mtemp\u001b[0m \u001b[0;34m=\u001b[0m \u001b[0;34m-\u001b[0m\u001b[0;36m5\u001b[0m\u001b[0;34m\u001b[0m\u001b[0;34m\u001b[0m\u001b[0m\n\u001b[0m",
      "\u001b[0;32m<ipython-input-241-038c1f09e0aa>\u001b[0m in \u001b[0;36m__set__\u001b[0;34m(self, instance, new_temp)\u001b[0m\n\u001b[1;32m     20\u001b[0m \u001b[0;34m\u001b[0m\u001b[0m\n\u001b[1;32m     21\u001b[0m         \u001b[0;32mif\u001b[0m \u001b[0mnew_temp\u001b[0m \u001b[0;34m<\u001b[0m \u001b[0;36m8\u001b[0m\u001b[0;34m:\u001b[0m\u001b[0;34m\u001b[0m\u001b[0;34m\u001b[0m\u001b[0m\n\u001b[0;32m---> 22\u001b[0;31m             \u001b[0;32mraise\u001b[0m \u001b[0mTempTooLowError\u001b[0m\u001b[0;34m(\u001b[0m\u001b[0;34mf'Min temp is 8'\u001b[0m\u001b[0;34m)\u001b[0m\u001b[0;34m\u001b[0m\u001b[0;34m\u001b[0m\u001b[0m\n\u001b[0m\u001b[1;32m     23\u001b[0m \u001b[0;34m\u001b[0m\u001b[0m\n\u001b[1;32m     24\u001b[0m         \u001b[0;32mif\u001b[0m \u001b[0mnew_temp\u001b[0m \u001b[0;34m>\u001b[0m \u001b[0;36m30\u001b[0m\u001b[0;34m:\u001b[0m\u001b[0;34m\u001b[0m\u001b[0;34m\u001b[0m\u001b[0m\n",
      "\u001b[0;31mTempTooLowError\u001b[0m: Min temp is 8"
     ]
    }
   ],
   "source": [
    "t2.temp = -5"
   ]
  },
  {
   "cell_type": "code",
   "execution_count": null,
   "metadata": {},
   "outputs": [],
   "source": []
  }
 ],
 "metadata": {
  "kernelspec": {
   "display_name": "Python 3",
   "language": "python",
   "name": "python3"
  },
  "language_info": {
   "codemirror_mode": {
    "name": "ipython",
    "version": 3
   },
   "file_extension": ".py",
   "mimetype": "text/x-python",
   "name": "python",
   "nbconvert_exporter": "python",
   "pygments_lexer": "ipython3",
   "version": "3.9.7"
  }
 },
 "nbformat": 4,
 "nbformat_minor": 4
}
