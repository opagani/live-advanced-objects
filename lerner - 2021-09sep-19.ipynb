{
 "cells": [
  {
   "cell_type": "markdown",
   "metadata": {},
   "source": [
    "# Agenda\n",
    "\n",
    "1. Magic methods\n",
    "2. Context managers (how objects can behave in `with` blocks)\n",
    "3. Static and class methods\n",
    "4. Multiple inheritance and the MRO \n",
    "5. Python object model + hierarchy\n",
    "6. Properties (looks like data, acts like methods)\n",
    "7. Descriptors\n",
    "8. Dataclasses"
   ]
  },
  {
   "cell_type": "markdown",
   "metadata": {},
   "source": [
    "# Magic methods\n",
    "\n",
    "We can define methods on our classes, and then access them via our instances. Generally speaking, we only want a method to be invoked when we do it explicitly.\n",
    "\n",
    "But there are a whole slew of methods, which we call \"dunder methods,\" or \"magic methods,\" which we almost never invoke directly ourselves.  Rather, Python looks for these methods, and then invokes them under certain circumstances."
   ]
  },
  {
   "cell_type": "code",
   "execution_count": 1,
   "metadata": {},
   "outputs": [
    {
     "name": "stdout",
     "output_type": "stream",
     "text": [
      "Hello, name1!\n"
     ]
    }
   ],
   "source": [
    "class Person:\n",
    "    def __init__(self, name):\n",
    "        self.name = name\n",
    "        \n",
    "    def greet(self):\n",
    "        return f'Hello, {self.name}!'\n",
    "    \n",
    "p = Person('name1')    \n",
    "print(p.greet())"
   ]
  },
  {
   "cell_type": "code",
   "execution_count": 2,
   "metadata": {},
   "outputs": [
    {
     "data": {
      "text/plain": [
       "{'name': 'name1'}"
      ]
     },
     "execution_count": 2,
     "metadata": {},
     "output_type": "execute_result"
    }
   ],
   "source": [
    "vars(p)  # this returns the dict of attributes set on the instance"
   ]
  },
  {
   "cell_type": "code",
   "execution_count": 3,
   "metadata": {},
   "outputs": [
    {
     "data": {
      "text/plain": [
       "'name1'"
      ]
     },
     "execution_count": 3,
     "metadata": {},
     "output_type": "execute_result"
    }
   ],
   "source": [
    "p.name  # retrieve the attribute named \"name\" from the object that p refers to\n"
   ]
  },
  {
   "cell_type": "code",
   "execution_count": 4,
   "metadata": {},
   "outputs": [
    {
     "name": "stdout",
     "output_type": "stream",
     "text": [
      "<__main__.Person object at 0x110462a90>\n"
     ]
    }
   ],
   "source": [
    "# ICPO -- attribute lookup: instance, class, parent, object\n",
    "\n",
    "print(p)   # this calls p.__str__() "
   ]
  },
  {
   "cell_type": "code",
   "execution_count": 7,
   "metadata": {},
   "outputs": [
    {
     "name": "stdout",
     "output_type": "stream",
     "text": [
      "Hello, name1!\n",
      "Instance of Person, vars(self)={'name': 'name1'}\n"
     ]
    }
   ],
   "source": [
    "class Person:\n",
    "    def __init__(self, name):\n",
    "        self.name = name\n",
    "        \n",
    "    def greet(self):\n",
    "        return f'Hello, {self.name}!'\n",
    "    \n",
    "    \n",
    "    def __repr__(self):\n",
    "        return f'Instance of Person, {vars(self)=}'    # as of Python 3.8, = after variable in f-string\n",
    "    \n",
    "p = Person('name1')    \n",
    "print(p.greet())\n",
    "print(p)"
   ]
  },
  {
   "cell_type": "code",
   "execution_count": 8,
   "metadata": {},
   "outputs": [
    {
     "ename": "TypeError",
     "evalue": "object of type 'Person' has no len()",
     "output_type": "error",
     "traceback": [
      "\u001b[0;31m---------------------------------------------------------------------------\u001b[0m",
      "\u001b[0;31mTypeError\u001b[0m                                 Traceback (most recent call last)",
      "\u001b[0;32m<ipython-input-8-c0ab7e71ddd9>\u001b[0m in \u001b[0;36m<module>\u001b[0;34m\u001b[0m\n\u001b[1;32m      3\u001b[0m \u001b[0;31m# when we call len(something), the \"len\" function calls something.__len__()\u001b[0m\u001b[0;34m\u001b[0m\u001b[0;34m\u001b[0m\u001b[0m\n\u001b[1;32m      4\u001b[0m \u001b[0;34m\u001b[0m\u001b[0m\n\u001b[0;32m----> 5\u001b[0;31m \u001b[0mlen\u001b[0m\u001b[0;34m(\u001b[0m\u001b[0mp\u001b[0m\u001b[0;34m)\u001b[0m  \u001b[0;31m# what's the length of our person?\u001b[0m\u001b[0;34m\u001b[0m\u001b[0;34m\u001b[0m\u001b[0m\n\u001b[0m",
      "\u001b[0;31mTypeError\u001b[0m: object of type 'Person' has no len()"
     ]
    }
   ],
   "source": [
    "# example: len(something)\n",
    "\n",
    "# when we call len(something), the \"len\" function calls something.__len__() \n",
    "\n",
    "len(p)  # what's the length of our person?"
   ]
  },
  {
   "cell_type": "code",
   "execution_count": 10,
   "metadata": {},
   "outputs": [
    {
     "name": "stdout",
     "output_type": "stream",
     "text": [
      "Hello, name1!\n",
      "Instance of Person, vars(self)={'name': 'name1'}\n",
      "5\n"
     ]
    }
   ],
   "source": [
    "class Person:\n",
    "    def __init__(self, name):\n",
    "        self.name = name\n",
    "        \n",
    "    def greet(self):\n",
    "        return f'Hello, {self.name}!'\n",
    "    \n",
    "    def __repr__(self):\n",
    "        return f'Instance of Person, {vars(self)=}'    # as of Python 3.8, = after variable in f-string\n",
    "    \n",
    "    def __len__(self):\n",
    "        return len(self.name)  # how long is the name?\n",
    "    \n",
    "p = Person('name1')    \n",
    "print(p.greet())\n",
    "print(p)\n",
    "print(len(p))  # I call len(p)... len calls p.__len__() "
   ]
  },
  {
   "cell_type": "code",
   "execution_count": 12,
   "metadata": {},
   "outputs": [
    {
     "ename": "TypeError",
     "evalue": "'Person' object is not subscriptable",
     "output_type": "error",
     "traceback": [
      "\u001b[0;31m---------------------------------------------------------------------------\u001b[0m",
      "\u001b[0;31mTypeError\u001b[0m                                 Traceback (most recent call last)",
      "\u001b[0;32m<ipython-input-12-060a4b6788a1>\u001b[0m in \u001b[0;36m<module>\u001b[0;34m\u001b[0m\n\u001b[0;32m----> 1\u001b[0;31m \u001b[0mp\u001b[0m\u001b[0;34m[\u001b[0m\u001b[0;36m3\u001b[0m\u001b[0;34m]\u001b[0m   \u001b[0;31m# what happens when I do this?\u001b[0m\u001b[0;34m\u001b[0m\u001b[0;34m\u001b[0m\u001b[0m\n\u001b[0m",
      "\u001b[0;31mTypeError\u001b[0m: 'Person' object is not subscriptable"
     ]
    }
   ],
   "source": [
    "p[3]   # what happens when I do this?"
   ]
  },
  {
   "cell_type": "code",
   "execution_count": 13,
   "metadata": {},
   "outputs": [],
   "source": [
    "# when we say x[i], what's really being run behind the scenes is x.__getitem__(i)\n",
    "# [] are \"syntactic sugar,\" easier for us to write and read, but rewritten behind the scenes by the language"
   ]
  },
  {
   "cell_type": "code",
   "execution_count": 18,
   "metadata": {},
   "outputs": [
    {
     "name": "stdout",
     "output_type": "stream",
     "text": [
      "\tindex=3\n",
      "e\n"
     ]
    }
   ],
   "source": [
    "class Person:\n",
    "    def __init__(self, name):\n",
    "        self.name = name\n",
    "        \n",
    "    def greet(self):\n",
    "        return f'Hello, {self.name}!'\n",
    "    \n",
    "    def __repr__(self):\n",
    "        return f'Instance of Person, {vars(self)=}'    # as of Python 3.8, = after variable in f-string\n",
    "    \n",
    "    def __len__(self):\n",
    "        return len(self.name)  # how long is the name?\n",
    "    \n",
    "    def __getitem__(self, index):\n",
    "        print(f'\\t{index=}')\n",
    "        return self.name[index]\n",
    "    \n",
    "p = Person('name1')    \n",
    "print(p[3])    # this is like saying p.__getitem__(3), which will return p.name[3]"
   ]
  },
  {
   "cell_type": "code",
   "execution_count": 19,
   "metadata": {},
   "outputs": [
    {
     "name": "stdout",
     "output_type": "stream",
     "text": [
      "\tindex=-100\n"
     ]
    },
    {
     "ename": "IndexError",
     "evalue": "string index out of range",
     "output_type": "error",
     "traceback": [
      "\u001b[0;31m---------------------------------------------------------------------------\u001b[0m",
      "\u001b[0;31mIndexError\u001b[0m                                Traceback (most recent call last)",
      "\u001b[0;32m<ipython-input-19-a8cc09efd1d7>\u001b[0m in \u001b[0;36m<module>\u001b[0;34m\u001b[0m\n\u001b[0;32m----> 1\u001b[0;31m \u001b[0mprint\u001b[0m\u001b[0;34m(\u001b[0m\u001b[0mp\u001b[0m\u001b[0;34m[\u001b[0m\u001b[0;34m-\u001b[0m\u001b[0;36m100\u001b[0m\u001b[0;34m]\u001b[0m\u001b[0;34m)\u001b[0m\u001b[0;34m\u001b[0m\u001b[0;34m\u001b[0m\u001b[0m\n\u001b[0m",
      "\u001b[0;32m<ipython-input-18-e104fa35c18a>\u001b[0m in \u001b[0;36m__getitem__\u001b[0;34m(self, index)\u001b[0m\n\u001b[1;32m     14\u001b[0m     \u001b[0;32mdef\u001b[0m \u001b[0m__getitem__\u001b[0m\u001b[0;34m(\u001b[0m\u001b[0mself\u001b[0m\u001b[0;34m,\u001b[0m \u001b[0mindex\u001b[0m\u001b[0;34m)\u001b[0m\u001b[0;34m:\u001b[0m\u001b[0;34m\u001b[0m\u001b[0;34m\u001b[0m\u001b[0m\n\u001b[1;32m     15\u001b[0m         \u001b[0mprint\u001b[0m\u001b[0;34m(\u001b[0m\u001b[0;34mf'\\t{index=}'\u001b[0m\u001b[0;34m)\u001b[0m\u001b[0;34m\u001b[0m\u001b[0;34m\u001b[0m\u001b[0m\n\u001b[0;32m---> 16\u001b[0;31m         \u001b[0;32mreturn\u001b[0m \u001b[0mself\u001b[0m\u001b[0;34m.\u001b[0m\u001b[0mname\u001b[0m\u001b[0;34m[\u001b[0m\u001b[0mindex\u001b[0m\u001b[0;34m]\u001b[0m\u001b[0;34m\u001b[0m\u001b[0;34m\u001b[0m\u001b[0m\n\u001b[0m\u001b[1;32m     17\u001b[0m \u001b[0;34m\u001b[0m\u001b[0m\n\u001b[1;32m     18\u001b[0m \u001b[0mp\u001b[0m \u001b[0;34m=\u001b[0m \u001b[0mPerson\u001b[0m\u001b[0;34m(\u001b[0m\u001b[0;34m'name1'\u001b[0m\u001b[0;34m)\u001b[0m\u001b[0;34m\u001b[0m\u001b[0;34m\u001b[0m\u001b[0m\n",
      "\u001b[0;31mIndexError\u001b[0m: string index out of range"
     ]
    }
   ],
   "source": [
    "print(p[-100])"
   ]
  },
  {
   "cell_type": "code",
   "execution_count": 20,
   "metadata": {},
   "outputs": [
    {
     "name": "stdout",
     "output_type": "stream",
     "text": [
      "\tindex=slice(1, 4, None)\n",
      "ame\n"
     ]
    }
   ],
   "source": [
    "# what if I ask for a slice?\n",
    "print(p[1:4])   # slice from index 1 until (and not including) index 4"
   ]
  },
  {
   "cell_type": "code",
   "execution_count": 21,
   "metadata": {},
   "outputs": [
    {
     "data": {
      "text/plain": [
       "slice(None, 5, None)"
      ]
     },
     "execution_count": 21,
     "metadata": {},
     "output_type": "execute_result"
    }
   ],
   "source": [
    "slice(5)   # same as saying [:5]"
   ]
  },
  {
   "cell_type": "code",
   "execution_count": 22,
   "metadata": {},
   "outputs": [
    {
     "data": {
      "text/plain": [
       "slice(1, 4, None)"
      ]
     },
     "execution_count": 22,
     "metadata": {},
     "output_type": "execute_result"
    }
   ],
   "source": [
    "slice(1,4)"
   ]
  },
  {
   "cell_type": "code",
   "execution_count": 23,
   "metadata": {},
   "outputs": [
    {
     "data": {
      "text/plain": [
       "slice(1, 4, 2)"
      ]
     },
     "execution_count": 23,
     "metadata": {},
     "output_type": "execute_result"
    }
   ],
   "source": [
    "slice(1,4,2)  # same as [1:4:2]"
   ]
  },
  {
   "cell_type": "code",
   "execution_count": 24,
   "metadata": {},
   "outputs": [
    {
     "data": {
      "text/plain": [
       "'klmnopqrst'"
      ]
     },
     "execution_count": 24,
     "metadata": {},
     "output_type": "execute_result"
    }
   ],
   "source": [
    "s = 'abcdefghijklmnopqrstuvwxyz'\n",
    "\n",
    "s[10:20]   # from 10 until (not including) 20"
   ]
  },
  {
   "cell_type": "code",
   "execution_count": 25,
   "metadata": {},
   "outputs": [
    {
     "data": {
      "text/plain": [
       "'klmnopqrst'"
      ]
     },
     "execution_count": 25,
     "metadata": {},
     "output_type": "execute_result"
    }
   ],
   "source": [
    "# the above is rewritten to be:\n",
    "s[slice(10, 20)]     # [10:20] is turned into this"
   ]
  },
  {
   "cell_type": "code",
   "execution_count": 26,
   "metadata": {},
   "outputs": [
    {
     "data": {
      "text/plain": [
       "'knqt'"
      ]
     },
     "execution_count": 26,
     "metadata": {},
     "output_type": "execute_result"
    }
   ],
   "source": [
    "s[10:20:3]   # same as s[slice(10, 20, 3)]"
   ]
  },
  {
   "cell_type": "markdown",
   "metadata": {},
   "source": [
    "# What happens when we add objects together with `+`?\n",
    "\n",
    "```python\n",
    "3 + 5      # adding two integers, we get a new integer\n",
    "'a' + 'bc' # adding two strings, we get a new string\n",
    "```\n",
    "\n",
    "Whenever we add two objects in Python, we're actually invoking a method. The `+` operator is translated into a call to the `__add__` method.\n",
    "\n",
    "If I say `x + y` in Python, the language rewrites this to be `x.__add__(y)`.  In other words, we invoke the `__add__` method on whatever is on the *left* side. The second operand is then passed as an argument."
   ]
  },
  {
   "cell_type": "code",
   "execution_count": 27,
   "metadata": {},
   "outputs": [
    {
     "ename": "TypeError",
     "evalue": "unsupported operand type(s) for +: 'Person' and 'Person'",
     "output_type": "error",
     "traceback": [
      "\u001b[0;31m---------------------------------------------------------------------------\u001b[0m",
      "\u001b[0;31mTypeError\u001b[0m                                 Traceback (most recent call last)",
      "\u001b[0;32m<ipython-input-27-50d4a6d3a7d9>\u001b[0m in \u001b[0;36m<module>\u001b[0;34m\u001b[0m\n\u001b[1;32m      2\u001b[0m \u001b[0mp2\u001b[0m \u001b[0;34m=\u001b[0m \u001b[0mPerson\u001b[0m\u001b[0;34m(\u001b[0m\u001b[0;34m'name2'\u001b[0m\u001b[0;34m)\u001b[0m\u001b[0;34m\u001b[0m\u001b[0;34m\u001b[0m\u001b[0m\n\u001b[1;32m      3\u001b[0m \u001b[0;34m\u001b[0m\u001b[0m\n\u001b[0;32m----> 4\u001b[0;31m \u001b[0mp1\u001b[0m \u001b[0;34m+\u001b[0m \u001b[0mp2\u001b[0m   \u001b[0;31m# what will happen now?\u001b[0m\u001b[0;34m\u001b[0m\u001b[0;34m\u001b[0m\u001b[0m\n\u001b[0m",
      "\u001b[0;31mTypeError\u001b[0m: unsupported operand type(s) for +: 'Person' and 'Person'"
     ]
    }
   ],
   "source": [
    "p1 = Person('name1')\n",
    "p2 = Person('name2')\n",
    "\n",
    "p1 + p2   # what will happen now?"
   ]
  },
  {
   "cell_type": "code",
   "execution_count": 28,
   "metadata": {},
   "outputs": [
    {
     "ename": "TypeError",
     "evalue": "unsupported operand type(s) for +: 'int' and 'str'",
     "output_type": "error",
     "traceback": [
      "\u001b[0;31m---------------------------------------------------------------------------\u001b[0m",
      "\u001b[0;31mTypeError\u001b[0m                                 Traceback (most recent call last)",
      "\u001b[0;32m<ipython-input-28-bb57d4d128c0>\u001b[0m in \u001b[0;36m<module>\u001b[0;34m\u001b[0m\n\u001b[1;32m      2\u001b[0m \u001b[0my\u001b[0m \u001b[0;34m=\u001b[0m \u001b[0;34m'20'\u001b[0m\u001b[0;34m\u001b[0m\u001b[0;34m\u001b[0m\u001b[0m\n\u001b[1;32m      3\u001b[0m \u001b[0;34m\u001b[0m\u001b[0m\n\u001b[0;32m----> 4\u001b[0;31m \u001b[0mx\u001b[0m \u001b[0;34m+\u001b[0m \u001b[0my\u001b[0m\u001b[0;34m\u001b[0m\u001b[0;34m\u001b[0m\u001b[0m\n\u001b[0m",
      "\u001b[0;31mTypeError\u001b[0m: unsupported operand type(s) for +: 'int' and 'str'"
     ]
    }
   ],
   "source": [
    "x = 10\n",
    "y = '20'\n",
    "\n",
    "x + y   "
   ]
  },
  {
   "cell_type": "code",
   "execution_count": 29,
   "metadata": {},
   "outputs": [
    {
     "ename": "TypeError",
     "evalue": "can only concatenate str (not \"int\") to str",
     "output_type": "error",
     "traceback": [
      "\u001b[0;31m---------------------------------------------------------------------------\u001b[0m",
      "\u001b[0;31mTypeError\u001b[0m                                 Traceback (most recent call last)",
      "\u001b[0;32m<ipython-input-29-94c8e99c39e6>\u001b[0m in \u001b[0;36m<module>\u001b[0;34m\u001b[0m\n\u001b[1;32m      1\u001b[0m \u001b[0;31m# what happens if I add them, but in the opposite order?\u001b[0m\u001b[0;34m\u001b[0m\u001b[0;34m\u001b[0m\u001b[0m\n\u001b[1;32m      2\u001b[0m \u001b[0;34m\u001b[0m\u001b[0m\n\u001b[0;32m----> 3\u001b[0;31m \u001b[0my\u001b[0m \u001b[0;34m+\u001b[0m \u001b[0mx\u001b[0m\u001b[0;34m\u001b[0m\u001b[0;34m\u001b[0m\u001b[0m\n\u001b[0m",
      "\u001b[0;31mTypeError\u001b[0m: can only concatenate str (not \"int\") to str"
     ]
    }
   ],
   "source": [
    "# what happens if I add them, but in the opposite order?\n",
    "\n",
    "y + x"
   ]
  },
  {
   "cell_type": "code",
   "execution_count": 36,
   "metadata": {},
   "outputs": [
    {
     "data": {
      "text/plain": [
       "Person object, vars(self)={'name': 'name1name2'}"
      ]
     },
     "execution_count": 36,
     "metadata": {},
     "output_type": "execute_result"
    }
   ],
   "source": [
    "class Person:\n",
    "    def __init__(self, name):\n",
    "        self.name = name\n",
    "        \n",
    "    def greet(self):\n",
    "        return f'Hello, {self.name}!'\n",
    "    \n",
    "    def __repr__(self):\n",
    "        return f'Person object, {vars(self)=}'\n",
    "    \n",
    "    def __add__(self, other):          # other is the object on the right side of the +\n",
    "        if hasattr(other, 'name'):     # does the attribute 'name' exist on other?\n",
    "            return Person(self.name + other.name)  # create a new person with the combined name\n",
    "        else:\n",
    "            return Person(self.name + str(other))\n",
    "    \n",
    "p1 = Person('name1')\n",
    "p2 = Person('name2')\n",
    "\n",
    "p1 + p2  # this invokes p1.__add__(p2) --> Person.__add__(p1, p2)"
   ]
  },
  {
   "cell_type": "code",
   "execution_count": 37,
   "metadata": {},
   "outputs": [
    {
     "data": {
      "text/plain": [
       "Person object, vars(self)={'name': 'name1xxxxx'}"
      ]
     },
     "execution_count": 37,
     "metadata": {},
     "output_type": "execute_result"
    }
   ],
   "source": [
    "p1 + 'xxxxx'"
   ]
  },
  {
   "cell_type": "code",
   "execution_count": 38,
   "metadata": {},
   "outputs": [
    {
     "ename": "TypeError",
     "evalue": "can only concatenate str (not \"Person\") to str",
     "output_type": "error",
     "traceback": [
      "\u001b[0;31m---------------------------------------------------------------------------\u001b[0m",
      "\u001b[0;31mTypeError\u001b[0m                                 Traceback (most recent call last)",
      "\u001b[0;32m<ipython-input-38-7ada3b2cea6d>\u001b[0m in \u001b[0;36m<module>\u001b[0;34m\u001b[0m\n\u001b[0;32m----> 1\u001b[0;31m \u001b[0;34m'yyyyy'\u001b[0m \u001b[0;34m+\u001b[0m \u001b[0mp1\u001b[0m\u001b[0;34m\u001b[0m\u001b[0;34m\u001b[0m\u001b[0m\n\u001b[0m",
      "\u001b[0;31mTypeError\u001b[0m: can only concatenate str (not \"Person\") to str"
     ]
    }
   ],
   "source": [
    "'yyyyy' + p1      # 'yyyyy'.__add__(p1)"
   ]
  },
  {
   "cell_type": "code",
   "execution_count": 39,
   "metadata": {},
   "outputs": [
    {
     "data": {
      "text/plain": [
       "NotImplemented"
      ]
     },
     "execution_count": 39,
     "metadata": {},
     "output_type": "execute_result"
    }
   ],
   "source": [
    "# If we try to invoke a method like __add__ and the method doesn't know what to do\n",
    "# with an \"other\" argument of the current type, it will raise an exception, as \n",
    "# we've seen  *BUT FIRST* it will try to invoke the method in the opposite direction.\n",
    "\n",
    "# Python does this via a value that it returns from the method called\n",
    "# NotImplemented\n",
    "\n",
    "NotImplemented"
   ]
  },
  {
   "cell_type": "code",
   "execution_count": 40,
   "metadata": {},
   "outputs": [
    {
     "data": {
      "text/plain": [
       "NotImplementedType"
      ]
     },
     "execution_count": 40,
     "metadata": {},
     "output_type": "execute_result"
    }
   ],
   "source": [
    "type(NotImplemented)"
   ]
  },
  {
   "cell_type": "code",
   "execution_count": 41,
   "metadata": {},
   "outputs": [
    {
     "data": {
      "text/plain": [
       "Person object, vars(self)={'name': 'name1name2'}"
      ]
     },
     "execution_count": 41,
     "metadata": {},
     "output_type": "execute_result"
    }
   ],
   "source": [
    "class Person:\n",
    "    def __init__(self, name):\n",
    "        self.name = name\n",
    "        \n",
    "    def greet(self):\n",
    "        return f'Hello, {self.name}!'\n",
    "    \n",
    "    def __repr__(self):\n",
    "        return f'Person object, {vars(self)=}'\n",
    "    \n",
    "    def __add__(self, other):          # other is the object on the right side of the +\n",
    "        if hasattr(other, 'name'):     # does the attribute 'name' exist on other?\n",
    "            return Person(self.name + other.name)  # create a new person with the combined name\n",
    "        else:\n",
    "            return Person(self.name + str(other))\n",
    "        \n",
    "    def __radd__(self, other):   # this is invoked when Python tries +, swapping the order of the arguments\n",
    "        return self.__add__(other)\n",
    "    \n",
    "p1 = Person('name1')\n",
    "p2 = Person('name2')\n",
    "\n",
    "p1 + p2  # this invokes p1.__add__(p2) --> Person.__add__(p1, p2)"
   ]
  },
  {
   "cell_type": "code",
   "execution_count": 42,
   "metadata": {},
   "outputs": [
    {
     "data": {
      "text/plain": [
       "Person object, vars(self)={'name': 'name2name1'}"
      ]
     },
     "execution_count": 42,
     "metadata": {},
     "output_type": "execute_result"
    }
   ],
   "source": [
    "p2 + p1"
   ]
  },
  {
   "cell_type": "code",
   "execution_count": 43,
   "metadata": {},
   "outputs": [
    {
     "data": {
      "text/plain": [
       "Person object, vars(self)={'name': 'name1xxxx'}"
      ]
     },
     "execution_count": 43,
     "metadata": {},
     "output_type": "execute_result"
    }
   ],
   "source": [
    "p1 + 'xxxx'"
   ]
  },
  {
   "cell_type": "code",
   "execution_count": 44,
   "metadata": {},
   "outputs": [
    {
     "data": {
      "text/plain": [
       "Person object, vars(self)={'name': 'name1yyy'}"
      ]
     },
     "execution_count": 44,
     "metadata": {},
     "output_type": "execute_result"
    }
   ],
   "source": [
    "'yyy' + p1"
   ]
  },
  {
   "cell_type": "code",
   "execution_count": 45,
   "metadata": {},
   "outputs": [
    {
     "data": {
      "text/plain": [
       "Person object, vars(self)={'name': 'name1name2'}"
      ]
     },
     "execution_count": 45,
     "metadata": {},
     "output_type": "execute_result"
    }
   ],
   "source": [
    "class Person:\n",
    "    def __init__(self, name):\n",
    "        self.name = name\n",
    "        \n",
    "    def greet(self):\n",
    "        return f'Hello, {self.name}!'\n",
    "    \n",
    "    def __repr__(self):\n",
    "        return f'Person object, {vars(self)=}'\n",
    "    \n",
    "    def __add__(self, other):          # other is the object on the right side of the +\n",
    "        if hasattr(other, 'name'):     # does the attribute 'name' exist on other?\n",
    "            return Person(self.name + other.name)  # create a new person with the combined name\n",
    "        else:\n",
    "            return Person(self.name + str(other))\n",
    "        \n",
    "    def __radd__(self, other):   # this is invoked when Python tries +, swapping the order of the arguments\n",
    "        if hasattr(other, 'name'):     # does the attribute 'name' exist on other?\n",
    "            return Person(other.name + self.name)\n",
    "        else:\n",
    "            return Person(str(other) + self.name)\n",
    "\n",
    "    \n",
    "p1 = Person('name1')\n",
    "p2 = Person('name2')\n",
    "\n",
    "p1 + p2  # this invokes p1.__add__(p2) --> Person.__add__(p1, p2)"
   ]
  },
  {
   "cell_type": "code",
   "execution_count": 46,
   "metadata": {},
   "outputs": [
    {
     "data": {
      "text/plain": [
       "Person object, vars(self)={'name': 'name1xxxxx'}"
      ]
     },
     "execution_count": 46,
     "metadata": {},
     "output_type": "execute_result"
    }
   ],
   "source": [
    "p1 + 'xxxxx'"
   ]
  },
  {
   "cell_type": "code",
   "execution_count": 47,
   "metadata": {},
   "outputs": [
    {
     "data": {
      "text/plain": [
       "Person object, vars(self)={'name': 'yyyyyname2'}"
      ]
     },
     "execution_count": 47,
     "metadata": {},
     "output_type": "execute_result"
    }
   ],
   "source": [
    "'yyyyy' + p2"
   ]
  },
  {
   "cell_type": "markdown",
   "metadata": {},
   "source": [
    "# Exercise: SortedList\n",
    "\n",
    "1. Define a new class, `SortedList`, that we'll assume will only contain integers.\n",
    "2. When you create a new instance of `SortedList`, you pass a list of integers.  These are then stored internally, in sorted order.  (It's totally OK to use `sorted` in this exercise.)\n",
    "3. Have `__repr__` return a string with the sorted items.\n",
    "4. Have `__len__` return the number of items in our list.\n",
    "5. If you invoke `+` on a `SortedList` and another `SortedList`, the result is a new `SortedList` instance with all of the original elements, in sorted order.\n",
    "6. If you invoke `+` on something else (should be an integer), then that should be added, in its appropriate place, to the `SortedList` instance.\n",
    "\n",
    "Example:\n",
    "\n",
    "    sl1 = SortedList([10, 5, 18])\n",
    "    sl2 = SortedList([9,7,12])\n",
    "    print(sl1)  # [5, 10, 18]\n",
    "    print(sl2)  # [7, 9, 12]\n",
    "\n",
    "    sl3 = sl1 + 7 \n",
    "    print(sl3)  # [5, 7, 10, 18]\n",
    "    \n",
    "    sl4 = 8 + sl1\n",
    "    print(sl4)  # [5, 8, 10, 18]\n",
    "    \n",
    "    print(sl1 + sl2)   # [5, 7, 9, 10, 12, 18]"
   ]
  },
  {
   "cell_type": "code",
   "execution_count": null,
   "metadata": {},
   "outputs": [],
   "source": []
  }
 ],
 "metadata": {
  "kernelspec": {
   "display_name": "Python 3",
   "language": "python",
   "name": "python3"
  },
  "language_info": {
   "codemirror_mode": {
    "name": "ipython",
    "version": 3
   },
   "file_extension": ".py",
   "mimetype": "text/x-python",
   "name": "python",
   "nbconvert_exporter": "python",
   "pygments_lexer": "ipython3",
   "version": "3.9.7"
  }
 },
 "nbformat": 4,
 "nbformat_minor": 4
}
